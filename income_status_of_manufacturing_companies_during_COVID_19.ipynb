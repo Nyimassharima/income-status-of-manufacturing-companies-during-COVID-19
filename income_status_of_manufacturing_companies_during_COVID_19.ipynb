{
  "nbformat": 4,
  "nbformat_minor": 0,
  "metadata": {
    "kernelspec": {
      "display_name": "Python 3",
      "language": "python",
      "name": "python3"
    },
    "language_info": {
      "codemirror_mode": {
        "name": "ipython",
        "version": 3
      },
      "file_extension": ".py",
      "mimetype": "text/x-python",
      "name": "python",
      "nbconvert_exporter": "python",
      "pygments_lexer": "ipython3",
      "version": "3.7.4"
    },
    "colab": {
      "name": " income-status-of-manufacturing-companies-during-COVID-19.ipynb",
      "provenance": [],
      "include_colab_link": true
    }
  },
  "cells": [
    {
      "cell_type": "markdown",
      "metadata": {
        "id": "view-in-github",
        "colab_type": "text"
      },
      "source": [
        "<a href=\"https://colab.research.google.com/github/Nyimassharima/income-status-of-manufacturing-companies-during-COVID-19/blob/main/income_status_of_manufacturing_companies_during_COVID_19.ipynb\" target=\"_parent\"><img src=\"https://colab.research.google.com/assets/colab-badge.svg\" alt=\"Open In Colab\"/></a>"
      ]
    },
    {
      "cell_type": "markdown",
      "metadata": {
        "id": "6vYSu9rE1DXn"
      },
      "source": [
        "# NSC UB"
      ]
    },
    {
      "cell_type": "code",
      "metadata": {
        "id": "g_AATA2p1DXv",
        "colab": {
          "base_uri": "https://localhost:8080/",
          "height": 51
        },
        "outputId": "333a6eb9-49ea-4f74-8953-a9f8cd4a1124"
      },
      "source": [
        "import numpy as np\n",
        "import pandas as pd\n",
        "import os\n",
        "import matplotlib\n",
        "import matplotlib.pyplot as plt\n",
        "import seaborn as sns\n",
        "\n",
        "%matplotlib inline \n",
        "matplotlib.style.use('ggplot') \n",
        "\n",
        "import warnings\n",
        "warnings.filterwarnings('ignore')\n",
        "\n",
        "\n",
        "import matplotlib.colors as colors\n",
        "from sklearn.utils import resample # downsample the dataset\n",
        "from sklearn.model_selection import train_test_split # split  data into training and testing sets\n",
        "from sklearn.preprocessing import scale # scale and center data\n",
        "from sklearn.svm import SVC # this will make a support vector machine for classificaiton\n",
        "from sklearn.model_selection import GridSearchCV # this will do cross validation\n",
        "from sklearn.metrics import confusion_matrix # this creates a confusion matrix\n",
        "from sklearn.metrics import plot_confusion_matrix # draws a confusion matrix\n",
        "from sklearn.decomposition import PCA # to perform PCA to plot the data"
      ],
      "execution_count": null,
      "outputs": [
        {
          "output_type": "stream",
          "text": [
            "/usr/local/lib/python3.6/dist-packages/statsmodels/tools/_testing.py:19: FutureWarning: pandas.util.testing is deprecated. Use the functions in the public API at pandas.testing instead.\n",
            "  import pandas.util.testing as tm\n"
          ],
          "name": "stderr"
        }
      ]
    },
    {
      "cell_type": "code",
      "metadata": {
        "id": "AuS_sW-l1rtN",
        "colab": {
          "base_uri": "https://localhost:8080/",
          "height": 122
        },
        "outputId": "eae89e53-2f45-49db-fa04-cd608c27089b"
      },
      "source": [
        "from google.colab import drive\n",
        "drive.mount('/content/drive')"
      ],
      "execution_count": null,
      "outputs": [
        {
          "output_type": "stream",
          "text": [
            "Go to this URL in a browser: https://accounts.google.com/o/oauth2/auth?client_id=947318989803-6bn6qk8qdgf4n4g3pfee6491hc0brc4i.apps.googleusercontent.com&redirect_uri=urn%3aietf%3awg%3aoauth%3a2.0%3aoob&scope=email%20https%3a%2f%2fwww.googleapis.com%2fauth%2fdocs.test%20https%3a%2f%2fwww.googleapis.com%2fauth%2fdrive%20https%3a%2f%2fwww.googleapis.com%2fauth%2fdrive.photos.readonly%20https%3a%2f%2fwww.googleapis.com%2fauth%2fpeopleapi.readonly&response_type=code\n",
            "\n",
            "Enter your authorization code:\n",
            "4/3wFZzA6edUjGCff-uxLZn8GxttGOY24sPpzQnXca1eF6mKh7lO-Kgak\n",
            "Mounted at /content/drive\n"
          ],
          "name": "stdout"
        }
      ]
    },
    {
      "cell_type": "code",
      "metadata": {
        "id": "OEtN5RzK1DX-"
      },
      "source": [
        "df=pd.read_excel(\"/content/drive/My Drive/NSC UB 2020/Data NSC.xlsx\")"
      ],
      "execution_count": null,
      "outputs": []
    },
    {
      "cell_type": "code",
      "metadata": {
        "id": "cHdB0Our1DYL",
        "colab": {
          "base_uri": "https://localhost:8080/",
          "height": 204
        },
        "outputId": "310c82e9-df46-48b4-f5b3-18711b0d8cfb"
      },
      "source": [
        "df.head()"
      ],
      "execution_count": null,
      "outputs": [
        {
          "output_type": "execute_result",
          "data": {
            "text/html": [
              "<div>\n",
              "<style scoped>\n",
              "    .dataframe tbody tr th:only-of-type {\n",
              "        vertical-align: middle;\n",
              "    }\n",
              "\n",
              "    .dataframe tbody tr th {\n",
              "        vertical-align: top;\n",
              "    }\n",
              "\n",
              "    .dataframe thead th {\n",
              "        text-align: right;\n",
              "    }\n",
              "</style>\n",
              "<table border=\"1\" class=\"dataframe\">\n",
              "  <thead>\n",
              "    <tr style=\"text-align: right;\">\n",
              "      <th></th>\n",
              "      <th>No</th>\n",
              "      <th>Nama Perusahaan</th>\n",
              "      <th>KODE</th>\n",
              "      <th>BIDANG</th>\n",
              "      <th>ROA</th>\n",
              "      <th>ROE</th>\n",
              "      <th>DAR</th>\n",
              "      <th>DER</th>\n",
              "      <th>CR</th>\n",
              "      <th>QR</th>\n",
              "      <th>Status Pendapatan</th>\n",
              "    </tr>\n",
              "  </thead>\n",
              "  <tbody>\n",
              "    <tr>\n",
              "      <th>0</th>\n",
              "      <td>1</td>\n",
              "      <td>PT Argha Karya Prima Ind. Tbk</td>\n",
              "      <td>AKPI</td>\n",
              "      <td>plastik dan kemasan</td>\n",
              "      <td>-0.017</td>\n",
              "      <td>-0.036</td>\n",
              "      <td>0.538</td>\n",
              "      <td>1.166</td>\n",
              "      <td>1.982</td>\n",
              "      <td>1.223</td>\n",
              "      <td>Rugi</td>\n",
              "    </tr>\n",
              "    <tr>\n",
              "      <th>1</th>\n",
              "      <td>2</td>\n",
              "      <td>PT Alkindo Naratama Tbk</td>\n",
              "      <td>ALDO</td>\n",
              "      <td>pulp dan kertas</td>\n",
              "      <td>0.011</td>\n",
              "      <td>0.020</td>\n",
              "      <td>0.420</td>\n",
              "      <td>0.724</td>\n",
              "      <td>6.582</td>\n",
              "      <td>3.742</td>\n",
              "      <td>Laba</td>\n",
              "    </tr>\n",
              "    <tr>\n",
              "      <th>2</th>\n",
              "      <td>3</td>\n",
              "      <td>PT Alumindo Light MetalIndustry Tbk</td>\n",
              "      <td>ALMI</td>\n",
              "      <td>logam</td>\n",
              "      <td>0.029</td>\n",
              "      <td>-1.256</td>\n",
              "      <td>1.023</td>\n",
              "      <td>-44.200</td>\n",
              "      <td>6.772</td>\n",
              "      <td>2.509</td>\n",
              "      <td>Laba</td>\n",
              "    </tr>\n",
              "    <tr>\n",
              "      <th>3</th>\n",
              "      <td>4</td>\n",
              "      <td>PT Asiaplast Industries Tbk</td>\n",
              "      <td>APLI</td>\n",
              "      <td>plastik dan kemasan</td>\n",
              "      <td>0.005</td>\n",
              "      <td>0.010</td>\n",
              "      <td>0.503</td>\n",
              "      <td>1.011</td>\n",
              "      <td>1.196</td>\n",
              "      <td>0.692</td>\n",
              "      <td>Laba</td>\n",
              "    </tr>\n",
              "    <tr>\n",
              "      <th>4</th>\n",
              "      <td>5</td>\n",
              "      <td>PT Arwana Citramulia Tbk</td>\n",
              "      <td>ARNA</td>\n",
              "      <td>keramik dan kaca</td>\n",
              "      <td>0.038</td>\n",
              "      <td>0.062</td>\n",
              "      <td>0.385</td>\n",
              "      <td>0.627</td>\n",
              "      <td>9.996</td>\n",
              "      <td>8.968</td>\n",
              "      <td>Laba</td>\n",
              "    </tr>\n",
              "  </tbody>\n",
              "</table>\n",
              "</div>"
            ],
            "text/plain": [
              "   No                      Nama Perusahaan  ...     QR Status Pendapatan\n",
              "0   1        PT Argha Karya Prima Ind. Tbk  ...  1.223              Rugi\n",
              "1   2              PT Alkindo Naratama Tbk  ...  3.742              Laba\n",
              "2   3  PT Alumindo Light MetalIndustry Tbk  ...  2.509              Laba\n",
              "3   4          PT Asiaplast Industries Tbk  ...  0.692              Laba\n",
              "4   5             PT Arwana Citramulia Tbk  ...  8.968              Laba\n",
              "\n",
              "[5 rows x 11 columns]"
            ]
          },
          "metadata": {
            "tags": []
          },
          "execution_count": 6
        }
      ]
    },
    {
      "cell_type": "code",
      "metadata": {
        "id": "97f-JvG91DYX",
        "colab": {
          "base_uri": "https://localhost:8080/",
          "height": 204
        },
        "outputId": "1b004096-8feb-483e-e20e-b08cd6228e5a"
      },
      "source": [
        "def pendapatan_convert(x):\n",
        "    if x['Status Pendapatan']=='Laba':\n",
        "        Pendapatan=1\n",
        "    else:\n",
        "        Pendapatan=0\n",
        "    return Pendapatan\n",
        "\n",
        "df['Pendapatan']=df.apply(lambda x:pendapatan_convert(x),axis=1)\n",
        "df.head()"
      ],
      "execution_count": null,
      "outputs": [
        {
          "output_type": "execute_result",
          "data": {
            "text/html": [
              "<div>\n",
              "<style scoped>\n",
              "    .dataframe tbody tr th:only-of-type {\n",
              "        vertical-align: middle;\n",
              "    }\n",
              "\n",
              "    .dataframe tbody tr th {\n",
              "        vertical-align: top;\n",
              "    }\n",
              "\n",
              "    .dataframe thead th {\n",
              "        text-align: right;\n",
              "    }\n",
              "</style>\n",
              "<table border=\"1\" class=\"dataframe\">\n",
              "  <thead>\n",
              "    <tr style=\"text-align: right;\">\n",
              "      <th></th>\n",
              "      <th>No</th>\n",
              "      <th>Nama Perusahaan</th>\n",
              "      <th>KODE</th>\n",
              "      <th>BIDANG</th>\n",
              "      <th>ROA</th>\n",
              "      <th>ROE</th>\n",
              "      <th>DAR</th>\n",
              "      <th>DER</th>\n",
              "      <th>CR</th>\n",
              "      <th>QR</th>\n",
              "      <th>Status Pendapatan</th>\n",
              "      <th>Pendapatan</th>\n",
              "    </tr>\n",
              "  </thead>\n",
              "  <tbody>\n",
              "    <tr>\n",
              "      <th>0</th>\n",
              "      <td>1</td>\n",
              "      <td>PT Argha Karya Prima Ind. Tbk</td>\n",
              "      <td>AKPI</td>\n",
              "      <td>plastik dan kemasan</td>\n",
              "      <td>-0.017</td>\n",
              "      <td>-0.036</td>\n",
              "      <td>0.538</td>\n",
              "      <td>1.166</td>\n",
              "      <td>1.982</td>\n",
              "      <td>1.223</td>\n",
              "      <td>Rugi</td>\n",
              "      <td>0</td>\n",
              "    </tr>\n",
              "    <tr>\n",
              "      <th>1</th>\n",
              "      <td>2</td>\n",
              "      <td>PT Alkindo Naratama Tbk</td>\n",
              "      <td>ALDO</td>\n",
              "      <td>pulp dan kertas</td>\n",
              "      <td>0.011</td>\n",
              "      <td>0.020</td>\n",
              "      <td>0.420</td>\n",
              "      <td>0.724</td>\n",
              "      <td>6.582</td>\n",
              "      <td>3.742</td>\n",
              "      <td>Laba</td>\n",
              "      <td>1</td>\n",
              "    </tr>\n",
              "    <tr>\n",
              "      <th>2</th>\n",
              "      <td>3</td>\n",
              "      <td>PT Alumindo Light MetalIndustry Tbk</td>\n",
              "      <td>ALMI</td>\n",
              "      <td>logam</td>\n",
              "      <td>0.029</td>\n",
              "      <td>-1.256</td>\n",
              "      <td>1.023</td>\n",
              "      <td>-44.200</td>\n",
              "      <td>6.772</td>\n",
              "      <td>2.509</td>\n",
              "      <td>Laba</td>\n",
              "      <td>1</td>\n",
              "    </tr>\n",
              "    <tr>\n",
              "      <th>3</th>\n",
              "      <td>4</td>\n",
              "      <td>PT Asiaplast Industries Tbk</td>\n",
              "      <td>APLI</td>\n",
              "      <td>plastik dan kemasan</td>\n",
              "      <td>0.005</td>\n",
              "      <td>0.010</td>\n",
              "      <td>0.503</td>\n",
              "      <td>1.011</td>\n",
              "      <td>1.196</td>\n",
              "      <td>0.692</td>\n",
              "      <td>Laba</td>\n",
              "      <td>1</td>\n",
              "    </tr>\n",
              "    <tr>\n",
              "      <th>4</th>\n",
              "      <td>5</td>\n",
              "      <td>PT Arwana Citramulia Tbk</td>\n",
              "      <td>ARNA</td>\n",
              "      <td>keramik dan kaca</td>\n",
              "      <td>0.038</td>\n",
              "      <td>0.062</td>\n",
              "      <td>0.385</td>\n",
              "      <td>0.627</td>\n",
              "      <td>9.996</td>\n",
              "      <td>8.968</td>\n",
              "      <td>Laba</td>\n",
              "      <td>1</td>\n",
              "    </tr>\n",
              "  </tbody>\n",
              "</table>\n",
              "</div>"
            ],
            "text/plain": [
              "   No                      Nama Perusahaan  ... Status Pendapatan Pendapatan\n",
              "0   1        PT Argha Karya Prima Ind. Tbk  ...              Rugi          0\n",
              "1   2              PT Alkindo Naratama Tbk  ...              Laba          1\n",
              "2   3  PT Alumindo Light MetalIndustry Tbk  ...              Laba          1\n",
              "3   4          PT Asiaplast Industries Tbk  ...              Laba          1\n",
              "4   5             PT Arwana Citramulia Tbk  ...              Laba          1\n",
              "\n",
              "[5 rows x 12 columns]"
            ]
          },
          "metadata": {
            "tags": []
          },
          "execution_count": 7
        }
      ]
    },
    {
      "cell_type": "code",
      "metadata": {
        "id": "YI9foKUB1DYh",
        "colab": {
          "base_uri": "https://localhost:8080/",
          "height": 607
        },
        "outputId": "71774b73-5719-4c08-bcea-25c5675d31a7"
      },
      "source": [
        "df.pivot_table(index='BIDANG', columns='Status Pendapatan', values='ROA',aggfunc=len,fill_value=0).reset_index()"
      ],
      "execution_count": null,
      "outputs": [
        {
          "output_type": "execute_result",
          "data": {
            "text/html": [
              "<div>\n",
              "<style scoped>\n",
              "    .dataframe tbody tr th:only-of-type {\n",
              "        vertical-align: middle;\n",
              "    }\n",
              "\n",
              "    .dataframe tbody tr th {\n",
              "        vertical-align: top;\n",
              "    }\n",
              "\n",
              "    .dataframe thead th {\n",
              "        text-align: right;\n",
              "    }\n",
              "</style>\n",
              "<table border=\"1\" class=\"dataframe\">\n",
              "  <thead>\n",
              "    <tr style=\"text-align: right;\">\n",
              "      <th>Status Pendapatan</th>\n",
              "      <th>BIDANG</th>\n",
              "      <th>Laba</th>\n",
              "      <th>Rugi</th>\n",
              "    </tr>\n",
              "  </thead>\n",
              "  <tbody>\n",
              "    <tr>\n",
              "      <th>0</th>\n",
              "      <td>agribisnis</td>\n",
              "      <td>2</td>\n",
              "      <td>0</td>\n",
              "    </tr>\n",
              "    <tr>\n",
              "      <th>1</th>\n",
              "      <td>alas kaki</td>\n",
              "      <td>0</td>\n",
              "      <td>1</td>\n",
              "    </tr>\n",
              "    <tr>\n",
              "      <th>2</th>\n",
              "      <td>elektronika</td>\n",
              "      <td>1</td>\n",
              "      <td>0</td>\n",
              "    </tr>\n",
              "    <tr>\n",
              "      <th>3</th>\n",
              "      <td>farmasi</td>\n",
              "      <td>3</td>\n",
              "      <td>1</td>\n",
              "    </tr>\n",
              "    <tr>\n",
              "      <th>4</th>\n",
              "      <td>kabel</td>\n",
              "      <td>2</td>\n",
              "      <td>1</td>\n",
              "    </tr>\n",
              "    <tr>\n",
              "      <th>5</th>\n",
              "      <td>kayu dan pengolahannya</td>\n",
              "      <td>0</td>\n",
              "      <td>2</td>\n",
              "    </tr>\n",
              "    <tr>\n",
              "      <th>6</th>\n",
              "      <td>keramik dan kaca</td>\n",
              "      <td>1</td>\n",
              "      <td>3</td>\n",
              "    </tr>\n",
              "    <tr>\n",
              "      <th>7</th>\n",
              "      <td>kimia</td>\n",
              "      <td>3</td>\n",
              "      <td>1</td>\n",
              "    </tr>\n",
              "    <tr>\n",
              "      <th>8</th>\n",
              "      <td>kosmetik</td>\n",
              "      <td>2</td>\n",
              "      <td>1</td>\n",
              "    </tr>\n",
              "    <tr>\n",
              "      <th>9</th>\n",
              "      <td>logam</td>\n",
              "      <td>2</td>\n",
              "      <td>0</td>\n",
              "    </tr>\n",
              "    <tr>\n",
              "      <th>10</th>\n",
              "      <td>makanan dan minuman</td>\n",
              "      <td>4</td>\n",
              "      <td>0</td>\n",
              "    </tr>\n",
              "    <tr>\n",
              "      <th>11</th>\n",
              "      <td>otomotif dan komponen</td>\n",
              "      <td>1</td>\n",
              "      <td>1</td>\n",
              "    </tr>\n",
              "    <tr>\n",
              "      <th>12</th>\n",
              "      <td>pakan ternak</td>\n",
              "      <td>2</td>\n",
              "      <td>0</td>\n",
              "    </tr>\n",
              "    <tr>\n",
              "      <th>13</th>\n",
              "      <td>peralatan rumah tangga</td>\n",
              "      <td>1</td>\n",
              "      <td>1</td>\n",
              "    </tr>\n",
              "    <tr>\n",
              "      <th>14</th>\n",
              "      <td>plastik dan kemasan</td>\n",
              "      <td>1</td>\n",
              "      <td>2</td>\n",
              "    </tr>\n",
              "    <tr>\n",
              "      <th>15</th>\n",
              "      <td>pulp dan kertas</td>\n",
              "      <td>4</td>\n",
              "      <td>0</td>\n",
              "    </tr>\n",
              "    <tr>\n",
              "      <th>16</th>\n",
              "      <td>semen</td>\n",
              "      <td>3</td>\n",
              "      <td>1</td>\n",
              "    </tr>\n",
              "    <tr>\n",
              "      <th>17</th>\n",
              "      <td>tekstil dan garmen</td>\n",
              "      <td>2</td>\n",
              "      <td>1</td>\n",
              "    </tr>\n",
              "  </tbody>\n",
              "</table>\n",
              "</div>"
            ],
            "text/plain": [
              "Status Pendapatan                  BIDANG  Laba  Rugi\n",
              "0                              agribisnis     2     0\n",
              "1                               alas kaki     0     1\n",
              "2                             elektronika     1     0\n",
              "3                                 farmasi     3     1\n",
              "4                                   kabel     2     1\n",
              "5                  kayu dan pengolahannya     0     2\n",
              "6                        keramik dan kaca     1     3\n",
              "7                                   kimia     3     1\n",
              "8                                kosmetik     2     1\n",
              "9                                   logam     2     0\n",
              "10                    makanan dan minuman     4     0\n",
              "11                  otomotif dan komponen     1     1\n",
              "12                           pakan ternak     2     0\n",
              "13                 peralatan rumah tangga     1     1\n",
              "14                    plastik dan kemasan     1     2\n",
              "15                        pulp dan kertas     4     0\n",
              "16                                  semen     3     1\n",
              "17                     tekstil dan garmen     2     1"
            ]
          },
          "metadata": {
            "tags": []
          },
          "execution_count": 8
        }
      ]
    },
    {
      "cell_type": "code",
      "metadata": {
        "id": "uJJ66lUm1DYo",
        "colab": {
          "base_uri": "https://localhost:8080/",
          "height": 204
        },
        "outputId": "a92bdee8-4e06-42da-eb17-d4518bc240aa"
      },
      "source": [
        "df.drop(['No', 'Nama Perusahaan', 'KODE','Status Pendapatan'],\n",
        "        axis=1, inplace=True) ## set axis=0 to remove rows, axis=1 to remove columns\n",
        "df.head()"
      ],
      "execution_count": null,
      "outputs": [
        {
          "output_type": "execute_result",
          "data": {
            "text/html": [
              "<div>\n",
              "<style scoped>\n",
              "    .dataframe tbody tr th:only-of-type {\n",
              "        vertical-align: middle;\n",
              "    }\n",
              "\n",
              "    .dataframe tbody tr th {\n",
              "        vertical-align: top;\n",
              "    }\n",
              "\n",
              "    .dataframe thead th {\n",
              "        text-align: right;\n",
              "    }\n",
              "</style>\n",
              "<table border=\"1\" class=\"dataframe\">\n",
              "  <thead>\n",
              "    <tr style=\"text-align: right;\">\n",
              "      <th></th>\n",
              "      <th>BIDANG</th>\n",
              "      <th>ROA</th>\n",
              "      <th>ROE</th>\n",
              "      <th>DAR</th>\n",
              "      <th>DER</th>\n",
              "      <th>CR</th>\n",
              "      <th>QR</th>\n",
              "      <th>Pendapatan</th>\n",
              "    </tr>\n",
              "  </thead>\n",
              "  <tbody>\n",
              "    <tr>\n",
              "      <th>0</th>\n",
              "      <td>plastik dan kemasan</td>\n",
              "      <td>-0.017</td>\n",
              "      <td>-0.036</td>\n",
              "      <td>0.538</td>\n",
              "      <td>1.166</td>\n",
              "      <td>1.982</td>\n",
              "      <td>1.223</td>\n",
              "      <td>0</td>\n",
              "    </tr>\n",
              "    <tr>\n",
              "      <th>1</th>\n",
              "      <td>pulp dan kertas</td>\n",
              "      <td>0.011</td>\n",
              "      <td>0.020</td>\n",
              "      <td>0.420</td>\n",
              "      <td>0.724</td>\n",
              "      <td>6.582</td>\n",
              "      <td>3.742</td>\n",
              "      <td>1</td>\n",
              "    </tr>\n",
              "    <tr>\n",
              "      <th>2</th>\n",
              "      <td>logam</td>\n",
              "      <td>0.029</td>\n",
              "      <td>-1.256</td>\n",
              "      <td>1.023</td>\n",
              "      <td>-44.200</td>\n",
              "      <td>6.772</td>\n",
              "      <td>2.509</td>\n",
              "      <td>1</td>\n",
              "    </tr>\n",
              "    <tr>\n",
              "      <th>3</th>\n",
              "      <td>plastik dan kemasan</td>\n",
              "      <td>0.005</td>\n",
              "      <td>0.010</td>\n",
              "      <td>0.503</td>\n",
              "      <td>1.011</td>\n",
              "      <td>1.196</td>\n",
              "      <td>0.692</td>\n",
              "      <td>1</td>\n",
              "    </tr>\n",
              "    <tr>\n",
              "      <th>4</th>\n",
              "      <td>keramik dan kaca</td>\n",
              "      <td>0.038</td>\n",
              "      <td>0.062</td>\n",
              "      <td>0.385</td>\n",
              "      <td>0.627</td>\n",
              "      <td>9.996</td>\n",
              "      <td>8.968</td>\n",
              "      <td>1</td>\n",
              "    </tr>\n",
              "  </tbody>\n",
              "</table>\n",
              "</div>"
            ],
            "text/plain": [
              "                BIDANG    ROA    ROE    DAR     DER     CR     QR  Pendapatan\n",
              "0  plastik dan kemasan -0.017 -0.036  0.538   1.166  1.982  1.223           0\n",
              "1      pulp dan kertas  0.011  0.020  0.420   0.724  6.582  3.742           1\n",
              "2                logam  0.029 -1.256  1.023 -44.200  6.772  2.509           1\n",
              "3  plastik dan kemasan  0.005  0.010  0.503   1.011  1.196  0.692           1\n",
              "4     keramik dan kaca  0.038  0.062  0.385   0.627  9.996  8.968           1"
            ]
          },
          "metadata": {
            "tags": []
          },
          "execution_count": 9
        }
      ]
    },
    {
      "cell_type": "code",
      "metadata": {
        "id": "3u0Ag0Ts1DYx",
        "colab": {
          "base_uri": "https://localhost:8080/",
          "height": 272
        },
        "outputId": "4259ba51-7f64-49c9-83fd-a1a856d1fc03"
      },
      "source": [
        "df.info()"
      ],
      "execution_count": null,
      "outputs": [
        {
          "output_type": "stream",
          "text": [
            "<class 'pandas.core.frame.DataFrame'>\n",
            "RangeIndex: 50 entries, 0 to 49\n",
            "Data columns (total 8 columns):\n",
            " #   Column      Non-Null Count  Dtype  \n",
            "---  ------      --------------  -----  \n",
            " 0   BIDANG      50 non-null     object \n",
            " 1   ROA         50 non-null     float64\n",
            " 2   ROE         50 non-null     float64\n",
            " 3   DAR         50 non-null     float64\n",
            " 4   DER         50 non-null     float64\n",
            " 5   CR          50 non-null     float64\n",
            " 6   QR          50 non-null     float64\n",
            " 7   Pendapatan  50 non-null     int64  \n",
            "dtypes: float64(6), int64(1), object(1)\n",
            "memory usage: 3.2+ KB\n"
          ],
          "name": "stdout"
        }
      ]
    },
    {
      "cell_type": "code",
      "metadata": {
        "id": "nb5b0ub31DY6",
        "colab": {
          "base_uri": "https://localhost:8080/",
          "height": 170
        },
        "outputId": "3063b4a3-ff40-4563-dd80-5cfdc4e0cff9"
      },
      "source": [
        "df.dtypes"
      ],
      "execution_count": null,
      "outputs": [
        {
          "output_type": "execute_result",
          "data": {
            "text/plain": [
              "BIDANG         object\n",
              "ROA           float64\n",
              "ROE           float64\n",
              "DAR           float64\n",
              "DER           float64\n",
              "CR            float64\n",
              "QR            float64\n",
              "Pendapatan      int64\n",
              "dtype: object"
            ]
          },
          "metadata": {
            "tags": []
          },
          "execution_count": 11
        }
      ]
    },
    {
      "cell_type": "code",
      "metadata": {
        "id": "mdScNYhH1DZH",
        "colab": {
          "base_uri": "https://localhost:8080/",
          "height": 34
        },
        "outputId": "1fac83cb-4102-430f-d743-64d1c3c82de1"
      },
      "source": [
        "df.shape"
      ],
      "execution_count": null,
      "outputs": [
        {
          "output_type": "execute_result",
          "data": {
            "text/plain": [
              "(50, 8)"
            ]
          },
          "metadata": {
            "tags": []
          },
          "execution_count": 12
        }
      ]
    },
    {
      "cell_type": "code",
      "metadata": {
        "id": "V1aUDlay1DZP",
        "colab": {
          "base_uri": "https://localhost:8080/",
          "height": 340
        },
        "outputId": "9f04a6f5-e574-408a-c41a-1481962458e9"
      },
      "source": [
        "df[\"BIDANG\"].value_counts()"
      ],
      "execution_count": null,
      "outputs": [
        {
          "output_type": "execute_result",
          "data": {
            "text/plain": [
              "farmasi                   4\n",
              "semen                     4\n",
              "makanan dan minuman       4\n",
              "kimia                     4\n",
              "pulp dan kertas           4\n",
              "keramik dan kaca          4\n",
              "kosmetik                  3\n",
              "tekstil dan garmen        3\n",
              "kabel                     3\n",
              "plastik dan kemasan       3\n",
              "pakan ternak              2\n",
              "logam                     2\n",
              "kayu dan pengolahannya    2\n",
              "agribisnis                2\n",
              "otomotif dan komponen     2\n",
              "peralatan rumah tangga    2\n",
              "elektronika               1\n",
              "alas kaki                 1\n",
              "Name: BIDANG, dtype: int64"
            ]
          },
          "metadata": {
            "tags": []
          },
          "execution_count": 13
        }
      ]
    },
    {
      "cell_type": "code",
      "metadata": {
        "id": "4RRXx9yA1DZX",
        "colab": {
          "base_uri": "https://localhost:8080/",
          "height": 68
        },
        "outputId": "56bdbae0-f849-413a-ae14-5a06c60d0522"
      },
      "source": [
        "df[\"Pendapatan\"].value_counts()"
      ],
      "execution_count": null,
      "outputs": [
        {
          "output_type": "execute_result",
          "data": {
            "text/plain": [
              "1    34\n",
              "0    16\n",
              "Name: Pendapatan, dtype: int64"
            ]
          },
          "metadata": {
            "tags": []
          },
          "execution_count": 14
        }
      ]
    },
    {
      "cell_type": "code",
      "metadata": {
        "id": "XknocRh81DZe",
        "colab": {
          "base_uri": "https://localhost:8080/",
          "height": 204
        },
        "outputId": "da65c9d5-e831-4712-b4fb-21c5cde1c5be"
      },
      "source": [
        "df.head()"
      ],
      "execution_count": null,
      "outputs": [
        {
          "output_type": "execute_result",
          "data": {
            "text/html": [
              "<div>\n",
              "<style scoped>\n",
              "    .dataframe tbody tr th:only-of-type {\n",
              "        vertical-align: middle;\n",
              "    }\n",
              "\n",
              "    .dataframe tbody tr th {\n",
              "        vertical-align: top;\n",
              "    }\n",
              "\n",
              "    .dataframe thead th {\n",
              "        text-align: right;\n",
              "    }\n",
              "</style>\n",
              "<table border=\"1\" class=\"dataframe\">\n",
              "  <thead>\n",
              "    <tr style=\"text-align: right;\">\n",
              "      <th></th>\n",
              "      <th>BIDANG</th>\n",
              "      <th>ROA</th>\n",
              "      <th>ROE</th>\n",
              "      <th>DAR</th>\n",
              "      <th>DER</th>\n",
              "      <th>CR</th>\n",
              "      <th>QR</th>\n",
              "      <th>Pendapatan</th>\n",
              "    </tr>\n",
              "  </thead>\n",
              "  <tbody>\n",
              "    <tr>\n",
              "      <th>0</th>\n",
              "      <td>plastik dan kemasan</td>\n",
              "      <td>-0.017</td>\n",
              "      <td>-0.036</td>\n",
              "      <td>0.538</td>\n",
              "      <td>1.166</td>\n",
              "      <td>1.982</td>\n",
              "      <td>1.223</td>\n",
              "      <td>0</td>\n",
              "    </tr>\n",
              "    <tr>\n",
              "      <th>1</th>\n",
              "      <td>pulp dan kertas</td>\n",
              "      <td>0.011</td>\n",
              "      <td>0.020</td>\n",
              "      <td>0.420</td>\n",
              "      <td>0.724</td>\n",
              "      <td>6.582</td>\n",
              "      <td>3.742</td>\n",
              "      <td>1</td>\n",
              "    </tr>\n",
              "    <tr>\n",
              "      <th>2</th>\n",
              "      <td>logam</td>\n",
              "      <td>0.029</td>\n",
              "      <td>-1.256</td>\n",
              "      <td>1.023</td>\n",
              "      <td>-44.200</td>\n",
              "      <td>6.772</td>\n",
              "      <td>2.509</td>\n",
              "      <td>1</td>\n",
              "    </tr>\n",
              "    <tr>\n",
              "      <th>3</th>\n",
              "      <td>plastik dan kemasan</td>\n",
              "      <td>0.005</td>\n",
              "      <td>0.010</td>\n",
              "      <td>0.503</td>\n",
              "      <td>1.011</td>\n",
              "      <td>1.196</td>\n",
              "      <td>0.692</td>\n",
              "      <td>1</td>\n",
              "    </tr>\n",
              "    <tr>\n",
              "      <th>4</th>\n",
              "      <td>keramik dan kaca</td>\n",
              "      <td>0.038</td>\n",
              "      <td>0.062</td>\n",
              "      <td>0.385</td>\n",
              "      <td>0.627</td>\n",
              "      <td>9.996</td>\n",
              "      <td>8.968</td>\n",
              "      <td>1</td>\n",
              "    </tr>\n",
              "  </tbody>\n",
              "</table>\n",
              "</div>"
            ],
            "text/plain": [
              "                BIDANG    ROA    ROE    DAR     DER     CR     QR  Pendapatan\n",
              "0  plastik dan kemasan -0.017 -0.036  0.538   1.166  1.982  1.223           0\n",
              "1      pulp dan kertas  0.011  0.020  0.420   0.724  6.582  3.742           1\n",
              "2                logam  0.029 -1.256  1.023 -44.200  6.772  2.509           1\n",
              "3  plastik dan kemasan  0.005  0.010  0.503   1.011  1.196  0.692           1\n",
              "4     keramik dan kaca  0.038  0.062  0.385   0.627  9.996  8.968           1"
            ]
          },
          "metadata": {
            "tags": []
          },
          "execution_count": 15
        }
      ]
    },
    {
      "cell_type": "code",
      "metadata": {
        "id": "PcTA-ROX1DZp",
        "colab": {
          "base_uri": "https://localhost:8080/",
          "height": 297
        },
        "outputId": "ffed8bd3-2dfe-48d5-aa94-769e708062d5"
      },
      "source": [
        "df.describe()"
      ],
      "execution_count": null,
      "outputs": [
        {
          "output_type": "execute_result",
          "data": {
            "text/html": [
              "<div>\n",
              "<style scoped>\n",
              "    .dataframe tbody tr th:only-of-type {\n",
              "        vertical-align: middle;\n",
              "    }\n",
              "\n",
              "    .dataframe tbody tr th {\n",
              "        vertical-align: top;\n",
              "    }\n",
              "\n",
              "    .dataframe thead th {\n",
              "        text-align: right;\n",
              "    }\n",
              "</style>\n",
              "<table border=\"1\" class=\"dataframe\">\n",
              "  <thead>\n",
              "    <tr style=\"text-align: right;\">\n",
              "      <th></th>\n",
              "      <th>ROA</th>\n",
              "      <th>ROE</th>\n",
              "      <th>DAR</th>\n",
              "      <th>DER</th>\n",
              "      <th>CR</th>\n",
              "      <th>QR</th>\n",
              "      <th>Pendapatan</th>\n",
              "    </tr>\n",
              "  </thead>\n",
              "  <tbody>\n",
              "    <tr>\n",
              "      <th>count</th>\n",
              "      <td>50.000000</td>\n",
              "      <td>50.000000</td>\n",
              "      <td>50.000000</td>\n",
              "      <td>50.000000</td>\n",
              "      <td>50.00000</td>\n",
              "      <td>50.000000</td>\n",
              "      <td>50.000000</td>\n",
              "    </tr>\n",
              "    <tr>\n",
              "      <th>mean</th>\n",
              "      <td>0.002974</td>\n",
              "      <td>0.056600</td>\n",
              "      <td>0.576160</td>\n",
              "      <td>-0.941040</td>\n",
              "      <td>6.61256</td>\n",
              "      <td>4.345320</td>\n",
              "      <td>0.680000</td>\n",
              "    </tr>\n",
              "    <tr>\n",
              "      <th>std</th>\n",
              "      <td>0.040140</td>\n",
              "      <td>0.460595</td>\n",
              "      <td>0.675479</td>\n",
              "      <td>9.764069</td>\n",
              "      <td>9.88953</td>\n",
              "      <td>6.665765</td>\n",
              "      <td>0.471212</td>\n",
              "    </tr>\n",
              "    <tr>\n",
              "      <th>min</th>\n",
              "      <td>-0.192000</td>\n",
              "      <td>-1.256000</td>\n",
              "      <td>0.058000</td>\n",
              "      <td>-50.154000</td>\n",
              "      <td>0.28400</td>\n",
              "      <td>0.125000</td>\n",
              "      <td>0.000000</td>\n",
              "    </tr>\n",
              "    <tr>\n",
              "      <th>25%</th>\n",
              "      <td>-0.005750</td>\n",
              "      <td>-0.007000</td>\n",
              "      <td>0.307000</td>\n",
              "      <td>0.274000</td>\n",
              "      <td>1.47125</td>\n",
              "      <td>0.755250</td>\n",
              "      <td>0.000000</td>\n",
              "    </tr>\n",
              "    <tr>\n",
              "      <th>50%</th>\n",
              "      <td>0.006000</td>\n",
              "      <td>0.011000</td>\n",
              "      <td>0.500000</td>\n",
              "      <td>0.785000</td>\n",
              "      <td>2.49200</td>\n",
              "      <td>1.656000</td>\n",
              "      <td>1.000000</td>\n",
              "    </tr>\n",
              "    <tr>\n",
              "      <th>75%</th>\n",
              "      <td>0.026500</td>\n",
              "      <td>0.035500</td>\n",
              "      <td>0.641500</td>\n",
              "      <td>1.444750</td>\n",
              "      <td>7.18225</td>\n",
              "      <td>4.620750</td>\n",
              "      <td>1.000000</td>\n",
              "    </tr>\n",
              "    <tr>\n",
              "      <th>max</th>\n",
              "      <td>0.086000</td>\n",
              "      <td>2.620000</td>\n",
              "      <td>4.931000</td>\n",
              "      <td>10.098000</td>\n",
              "      <td>51.38500</td>\n",
              "      <td>33.980000</td>\n",
              "      <td>1.000000</td>\n",
              "    </tr>\n",
              "  </tbody>\n",
              "</table>\n",
              "</div>"
            ],
            "text/plain": [
              "             ROA        ROE        DAR  ...        CR         QR  Pendapatan\n",
              "count  50.000000  50.000000  50.000000  ...  50.00000  50.000000   50.000000\n",
              "mean    0.002974   0.056600   0.576160  ...   6.61256   4.345320    0.680000\n",
              "std     0.040140   0.460595   0.675479  ...   9.88953   6.665765    0.471212\n",
              "min    -0.192000  -1.256000   0.058000  ...   0.28400   0.125000    0.000000\n",
              "25%    -0.005750  -0.007000   0.307000  ...   1.47125   0.755250    0.000000\n",
              "50%     0.006000   0.011000   0.500000  ...   2.49200   1.656000    1.000000\n",
              "75%     0.026500   0.035500   0.641500  ...   7.18225   4.620750    1.000000\n",
              "max     0.086000   2.620000   4.931000  ...  51.38500  33.980000    1.000000\n",
              "\n",
              "[8 rows x 7 columns]"
            ]
          },
          "metadata": {
            "tags": []
          },
          "execution_count": 16
        }
      ]
    },
    {
      "cell_type": "markdown",
      "metadata": {
        "id": "1yJS5UZahc-D"
      },
      "source": [
        "## **Outlier Handing (Capping)**"
      ]
    },
    {
      "cell_type": "code",
      "metadata": {
        "id": "f31GQQpx1DZu",
        "colab": {
          "base_uri": "https://localhost:8080/",
          "height": 626
        },
        "outputId": "7a9e2a6e-6acf-4299-a053-09d6516fa306"
      },
      "source": [
        "fig, ax = plt.subplots(3,2, figsize = (15,10),\n",
        "#                        sharex=True,\n",
        "#                        gridspec_kw= {\"height_ratios\": (0.2, 1)}\n",
        "                      )\n",
        "\n",
        "ax[0,0].boxplot(x = 'ROA',data=df)\n",
        "ax[0,0].set_title('Boxplot of ROA')\n",
        "\n",
        "ax[0,1].boxplot(x = 'ROE',data=df)\n",
        "ax[0,1].set_title('Boxplot of ROE')\n",
        "\n",
        "ax[1,0].boxplot(x = 'DAR',data=df)\n",
        "ax[1,0].set_title('Boxplot of DAR')\n",
        "\n",
        "ax[1,1].boxplot(x = 'DER',data=df)\n",
        "ax[1,1].set_title('Boxplot of DER')\n",
        "\n",
        "ax[2,0].boxplot(x = 'CR',data=df)\n",
        "ax[2,0].set_title('Boxplot of CR')\n",
        "\n",
        "ax[2,1].boxplot(x = 'QR',data=df)\n",
        "ax[2,1].set_title('Boxplot of QR')\n",
        "\n",
        "#plt.savefig('fig/9a.png', tight_box=True)"
      ],
      "execution_count": null,
      "outputs": [
        {
          "output_type": "execute_result",
          "data": {
            "text/plain": [
              "Text(0.5, 1.0, 'Boxplot of QR')"
            ]
          },
          "metadata": {
            "tags": []
          },
          "execution_count": 17
        },
        {
          "output_type": "display_data",
          "data": {
            "image/png": "[encoded data removed]",
            "text/plain": [
              "<Figure size 1080x720 with 6 Axes>"
            ]
          },
          "metadata": {
            "tags": [],
            "needs_background": "light"
          }
        }
      ]
    },
    {
      "cell_type": "code",
      "metadata": {
        "id": "QNqy2ton1DZ5",
        "colab": {
          "base_uri": "https://localhost:8080/",
          "height": 119
        },
        "outputId": "cff8839e-c9b3-4bee-c0df-2bbd80c10ee1"
      },
      "source": [
        "#Fungsi pendeteksi Outlier\n",
        "def outlier_detection(x):\n",
        "    q1 = x.quantile(0.25)\n",
        "    q3 = x.quantile(0.75)\n",
        "    iqr = q3-q1\n",
        "    upper_limit = q3+1.5*iqr\n",
        "    lower_limit = q1-1.5*iqr\n",
        "    outlier = (x>upper_limit )|(x<lower_limit)\n",
        "    return outlier\n",
        "\n",
        "for i in ['ROA','ROE','DAR','DER','CR','QR']:\n",
        "    print('Jumlah outlier pada variabel '+ str(i) + ' adalah '+ str(outlier_detection(df[i]).sum()))"
      ],
      "execution_count": null,
      "outputs": [
        {
          "output_type": "stream",
          "text": [
            "Jumlah outlier pada variabel ROA adalah 4\n",
            "Jumlah outlier pada variabel ROE adalah 8\n",
            "Jumlah outlier pada variabel DAR adalah 2\n",
            "Jumlah outlier pada variabel DER adalah 5\n",
            "Jumlah outlier pada variabel CR adalah 5\n",
            "Jumlah outlier pada variabel QR adalah 5\n"
          ],
          "name": "stdout"
        }
      ]
    },
    {
      "cell_type": "code",
      "metadata": {
        "id": "ztyzL5mH1DZ_"
      },
      "source": [
        "def outlier_cap(x,data):\n",
        "    q1 = data[x].quantile(0.25)\n",
        "    q3 = data[x].quantile(0.75)\n",
        "    iqr = q3-q1\n",
        "    upper_limit = q3+1.5*iqr\n",
        "    lower_limit = q1-1.5*iqr\n",
        "    data = data[(data[x] < upper_limit) & (data[x] > lower_limit)]\n",
        "#     data.loc[(data[x]<lower_limit),x]=lower_limit\n",
        "#     data.loc[(data[x]>upper_limit),x]=upper_limit\n",
        "    return data\n",
        "\n",
        "for i in ['ROA',\n",
        "          'ROE',\n",
        "          'DAR',\n",
        "          'DER',\n",
        "          'CR',\n",
        "          'QR'\n",
        "         ]:\n",
        "    df_cap = outlier_cap(i,df)"
      ],
      "execution_count": null,
      "outputs": []
    },
    {
      "cell_type": "code",
      "metadata": {
        "id": "7Toirg-x1DaI",
        "colab": {
          "base_uri": "https://localhost:8080/",
          "height": 204
        },
        "outputId": "17558166-3349-440a-f550-0faa54eb1fbe"
      },
      "source": [
        "df_cap.head()"
      ],
      "execution_count": null,
      "outputs": [
        {
          "output_type": "execute_result",
          "data": {
            "text/html": [
              "<div>\n",
              "<style scoped>\n",
              "    .dataframe tbody tr th:only-of-type {\n",
              "        vertical-align: middle;\n",
              "    }\n",
              "\n",
              "    .dataframe tbody tr th {\n",
              "        vertical-align: top;\n",
              "    }\n",
              "\n",
              "    .dataframe thead th {\n",
              "        text-align: right;\n",
              "    }\n",
              "</style>\n",
              "<table border=\"1\" class=\"dataframe\">\n",
              "  <thead>\n",
              "    <tr style=\"text-align: right;\">\n",
              "      <th></th>\n",
              "      <th>BIDANG</th>\n",
              "      <th>ROA</th>\n",
              "      <th>ROE</th>\n",
              "      <th>DAR</th>\n",
              "      <th>DER</th>\n",
              "      <th>CR</th>\n",
              "      <th>QR</th>\n",
              "      <th>Pendapatan</th>\n",
              "    </tr>\n",
              "  </thead>\n",
              "  <tbody>\n",
              "    <tr>\n",
              "      <th>0</th>\n",
              "      <td>plastik dan kemasan</td>\n",
              "      <td>-0.017</td>\n",
              "      <td>-0.036</td>\n",
              "      <td>0.538</td>\n",
              "      <td>1.166</td>\n",
              "      <td>1.982</td>\n",
              "      <td>1.223</td>\n",
              "      <td>0</td>\n",
              "    </tr>\n",
              "    <tr>\n",
              "      <th>1</th>\n",
              "      <td>pulp dan kertas</td>\n",
              "      <td>0.011</td>\n",
              "      <td>0.020</td>\n",
              "      <td>0.420</td>\n",
              "      <td>0.724</td>\n",
              "      <td>6.582</td>\n",
              "      <td>3.742</td>\n",
              "      <td>1</td>\n",
              "    </tr>\n",
              "    <tr>\n",
              "      <th>2</th>\n",
              "      <td>logam</td>\n",
              "      <td>0.029</td>\n",
              "      <td>-1.256</td>\n",
              "      <td>1.023</td>\n",
              "      <td>-44.200</td>\n",
              "      <td>6.772</td>\n",
              "      <td>2.509</td>\n",
              "      <td>1</td>\n",
              "    </tr>\n",
              "    <tr>\n",
              "      <th>3</th>\n",
              "      <td>plastik dan kemasan</td>\n",
              "      <td>0.005</td>\n",
              "      <td>0.010</td>\n",
              "      <td>0.503</td>\n",
              "      <td>1.011</td>\n",
              "      <td>1.196</td>\n",
              "      <td>0.692</td>\n",
              "      <td>1</td>\n",
              "    </tr>\n",
              "    <tr>\n",
              "      <th>4</th>\n",
              "      <td>keramik dan kaca</td>\n",
              "      <td>0.038</td>\n",
              "      <td>0.062</td>\n",
              "      <td>0.385</td>\n",
              "      <td>0.627</td>\n",
              "      <td>9.996</td>\n",
              "      <td>8.968</td>\n",
              "      <td>1</td>\n",
              "    </tr>\n",
              "  </tbody>\n",
              "</table>\n",
              "</div>"
            ],
            "text/plain": [
              "                BIDANG    ROA    ROE    DAR     DER     CR     QR  Pendapatan\n",
              "0  plastik dan kemasan -0.017 -0.036  0.538   1.166  1.982  1.223           0\n",
              "1      pulp dan kertas  0.011  0.020  0.420   0.724  6.582  3.742           1\n",
              "2                logam  0.029 -1.256  1.023 -44.200  6.772  2.509           1\n",
              "3  plastik dan kemasan  0.005  0.010  0.503   1.011  1.196  0.692           1\n",
              "4     keramik dan kaca  0.038  0.062  0.385   0.627  9.996  8.968           1"
            ]
          },
          "metadata": {
            "tags": []
          },
          "execution_count": 20
        }
      ]
    },
    {
      "cell_type": "code",
      "metadata": {
        "id": "w8FKBPyy1DaP",
        "colab": {
          "base_uri": "https://localhost:8080/",
          "height": 34
        },
        "outputId": "5b025fb6-c7a8-4b5d-9f49-a603e8dd49e4"
      },
      "source": [
        "df_cap.shape"
      ],
      "execution_count": null,
      "outputs": [
        {
          "output_type": "execute_result",
          "data": {
            "text/plain": [
              "(45, 8)"
            ]
          },
          "metadata": {
            "tags": []
          },
          "execution_count": 21
        }
      ]
    },
    {
      "cell_type": "code",
      "metadata": {
        "id": "N2mMjf-X1DaX",
        "colab": {
          "base_uri": "https://localhost:8080/",
          "height": 297
        },
        "outputId": "960db014-e443-4710-f5c5-00da572b2804"
      },
      "source": [
        "df_cap.describe()"
      ],
      "execution_count": null,
      "outputs": [
        {
          "output_type": "execute_result",
          "data": {
            "text/html": [
              "<div>\n",
              "<style scoped>\n",
              "    .dataframe tbody tr th:only-of-type {\n",
              "        vertical-align: middle;\n",
              "    }\n",
              "\n",
              "    .dataframe tbody tr th {\n",
              "        vertical-align: top;\n",
              "    }\n",
              "\n",
              "    .dataframe thead th {\n",
              "        text-align: right;\n",
              "    }\n",
              "</style>\n",
              "<table border=\"1\" class=\"dataframe\">\n",
              "  <thead>\n",
              "    <tr style=\"text-align: right;\">\n",
              "      <th></th>\n",
              "      <th>ROA</th>\n",
              "      <th>ROE</th>\n",
              "      <th>DAR</th>\n",
              "      <th>DER</th>\n",
              "      <th>CR</th>\n",
              "      <th>QR</th>\n",
              "      <th>Pendapatan</th>\n",
              "    </tr>\n",
              "  </thead>\n",
              "  <tbody>\n",
              "    <tr>\n",
              "      <th>count</th>\n",
              "      <td>45.000000</td>\n",
              "      <td>45.000000</td>\n",
              "      <td>45.000000</td>\n",
              "      <td>45.000000</td>\n",
              "      <td>45.000000</td>\n",
              "      <td>45.000000</td>\n",
              "      <td>45.000000</td>\n",
              "    </tr>\n",
              "    <tr>\n",
              "      <th>mean</th>\n",
              "      <td>0.000660</td>\n",
              "      <td>0.059711</td>\n",
              "      <td>0.618689</td>\n",
              "      <td>-1.073333</td>\n",
              "      <td>3.797222</td>\n",
              "      <td>2.403111</td>\n",
              "      <td>0.644444</td>\n",
              "    </tr>\n",
              "    <tr>\n",
              "      <th>std</th>\n",
              "      <td>0.041412</td>\n",
              "      <td>0.485923</td>\n",
              "      <td>0.699355</td>\n",
              "      <td>10.295159</td>\n",
              "      <td>3.469752</td>\n",
              "      <td>2.472648</td>\n",
              "      <td>0.484090</td>\n",
              "    </tr>\n",
              "    <tr>\n",
              "      <th>min</th>\n",
              "      <td>-0.192000</td>\n",
              "      <td>-1.256000</td>\n",
              "      <td>0.058000</td>\n",
              "      <td>-50.154000</td>\n",
              "      <td>0.284000</td>\n",
              "      <td>0.125000</td>\n",
              "      <td>0.000000</td>\n",
              "    </tr>\n",
              "    <tr>\n",
              "      <th>25%</th>\n",
              "      <td>-0.007000</td>\n",
              "      <td>-0.009000</td>\n",
              "      <td>0.332000</td>\n",
              "      <td>0.398000</td>\n",
              "      <td>1.201000</td>\n",
              "      <td>0.692000</td>\n",
              "      <td>0.000000</td>\n",
              "    </tr>\n",
              "    <tr>\n",
              "      <th>50%</th>\n",
              "      <td>0.005000</td>\n",
              "      <td>0.010000</td>\n",
              "      <td>0.510000</td>\n",
              "      <td>0.958000</td>\n",
              "      <td>2.175000</td>\n",
              "      <td>1.438000</td>\n",
              "      <td>1.000000</td>\n",
              "    </tr>\n",
              "    <tr>\n",
              "      <th>75%</th>\n",
              "      <td>0.021000</td>\n",
              "      <td>0.036000</td>\n",
              "      <td>0.655000</td>\n",
              "      <td>1.564000</td>\n",
              "      <td>6.270000</td>\n",
              "      <td>3.114000</td>\n",
              "      <td>1.000000</td>\n",
              "    </tr>\n",
              "    <tr>\n",
              "      <th>max</th>\n",
              "      <td>0.086000</td>\n",
              "      <td>2.620000</td>\n",
              "      <td>4.931000</td>\n",
              "      <td>10.098000</td>\n",
              "      <td>12.339000</td>\n",
              "      <td>9.122000</td>\n",
              "      <td>1.000000</td>\n",
              "    </tr>\n",
              "  </tbody>\n",
              "</table>\n",
              "</div>"
            ],
            "text/plain": [
              "             ROA        ROE        DAR  ...         CR         QR  Pendapatan\n",
              "count  45.000000  45.000000  45.000000  ...  45.000000  45.000000   45.000000\n",
              "mean    0.000660   0.059711   0.618689  ...   3.797222   2.403111    0.644444\n",
              "std     0.041412   0.485923   0.699355  ...   3.469752   2.472648    0.484090\n",
              "min    -0.192000  -1.256000   0.058000  ...   0.284000   0.125000    0.000000\n",
              "25%    -0.007000  -0.009000   0.332000  ...   1.201000   0.692000    0.000000\n",
              "50%     0.005000   0.010000   0.510000  ...   2.175000   1.438000    1.000000\n",
              "75%     0.021000   0.036000   0.655000  ...   6.270000   3.114000    1.000000\n",
              "max     0.086000   2.620000   4.931000  ...  12.339000   9.122000    1.000000\n",
              "\n",
              "[8 rows x 7 columns]"
            ]
          },
          "metadata": {
            "tags": []
          },
          "execution_count": 22
        }
      ]
    },
    {
      "cell_type": "code",
      "metadata": {
        "id": "NiuUfOMR1Dae",
        "colab": {
          "base_uri": "https://localhost:8080/",
          "height": 204
        },
        "outputId": "706afc76-f7c4-497f-f9eb-da2beb805422"
      },
      "source": [
        "X = df_cap.drop('Pendapatan', axis=1).copy() # alternatively: X = df_no_missing.iloc[:,:-1]\n",
        "X.head()"
      ],
      "execution_count": null,
      "outputs": [
        {
          "output_type": "execute_result",
          "data": {
            "text/html": [
              "<div>\n",
              "<style scoped>\n",
              "    .dataframe tbody tr th:only-of-type {\n",
              "        vertical-align: middle;\n",
              "    }\n",
              "\n",
              "    .dataframe tbody tr th {\n",
              "        vertical-align: top;\n",
              "    }\n",
              "\n",
              "    .dataframe thead th {\n",
              "        text-align: right;\n",
              "    }\n",
              "</style>\n",
              "<table border=\"1\" class=\"dataframe\">\n",
              "  <thead>\n",
              "    <tr style=\"text-align: right;\">\n",
              "      <th></th>\n",
              "      <th>BIDANG</th>\n",
              "      <th>ROA</th>\n",
              "      <th>ROE</th>\n",
              "      <th>DAR</th>\n",
              "      <th>DER</th>\n",
              "      <th>CR</th>\n",
              "      <th>QR</th>\n",
              "    </tr>\n",
              "  </thead>\n",
              "  <tbody>\n",
              "    <tr>\n",
              "      <th>0</th>\n",
              "      <td>plastik dan kemasan</td>\n",
              "      <td>-0.017</td>\n",
              "      <td>-0.036</td>\n",
              "      <td>0.538</td>\n",
              "      <td>1.166</td>\n",
              "      <td>1.982</td>\n",
              "      <td>1.223</td>\n",
              "    </tr>\n",
              "    <tr>\n",
              "      <th>1</th>\n",
              "      <td>pulp dan kertas</td>\n",
              "      <td>0.011</td>\n",
              "      <td>0.020</td>\n",
              "      <td>0.420</td>\n",
              "      <td>0.724</td>\n",
              "      <td>6.582</td>\n",
              "      <td>3.742</td>\n",
              "    </tr>\n",
              "    <tr>\n",
              "      <th>2</th>\n",
              "      <td>logam</td>\n",
              "      <td>0.029</td>\n",
              "      <td>-1.256</td>\n",
              "      <td>1.023</td>\n",
              "      <td>-44.200</td>\n",
              "      <td>6.772</td>\n",
              "      <td>2.509</td>\n",
              "    </tr>\n",
              "    <tr>\n",
              "      <th>3</th>\n",
              "      <td>plastik dan kemasan</td>\n",
              "      <td>0.005</td>\n",
              "      <td>0.010</td>\n",
              "      <td>0.503</td>\n",
              "      <td>1.011</td>\n",
              "      <td>1.196</td>\n",
              "      <td>0.692</td>\n",
              "    </tr>\n",
              "    <tr>\n",
              "      <th>4</th>\n",
              "      <td>keramik dan kaca</td>\n",
              "      <td>0.038</td>\n",
              "      <td>0.062</td>\n",
              "      <td>0.385</td>\n",
              "      <td>0.627</td>\n",
              "      <td>9.996</td>\n",
              "      <td>8.968</td>\n",
              "    </tr>\n",
              "  </tbody>\n",
              "</table>\n",
              "</div>"
            ],
            "text/plain": [
              "                BIDANG    ROA    ROE    DAR     DER     CR     QR\n",
              "0  plastik dan kemasan -0.017 -0.036  0.538   1.166  1.982  1.223\n",
              "1      pulp dan kertas  0.011  0.020  0.420   0.724  6.582  3.742\n",
              "2                logam  0.029 -1.256  1.023 -44.200  6.772  2.509\n",
              "3  plastik dan kemasan  0.005  0.010  0.503   1.011  1.196  0.692\n",
              "4     keramik dan kaca  0.038  0.062  0.385   0.627  9.996  8.968"
            ]
          },
          "metadata": {
            "tags": []
          },
          "execution_count": 23
        }
      ]
    },
    {
      "cell_type": "code",
      "metadata": {
        "id": "HWNj9_ey1Dam",
        "colab": {
          "base_uri": "https://localhost:8080/",
          "height": 119
        },
        "outputId": "6a739077-8b79-40c4-84b5-3e4bcb8f44a3"
      },
      "source": [
        "y = df_cap['Pendapatan'].copy()\n",
        "y.head()"
      ],
      "execution_count": null,
      "outputs": [
        {
          "output_type": "execute_result",
          "data": {
            "text/plain": [
              "0    0\n",
              "1    1\n",
              "2    1\n",
              "3    1\n",
              "4    1\n",
              "Name: Pendapatan, dtype: int64"
            ]
          },
          "metadata": {
            "tags": []
          },
          "execution_count": 24
        }
      ]
    },
    {
      "cell_type": "code",
      "metadata": {
        "id": "3jTJf98K1Dar",
        "colab": {
          "base_uri": "https://localhost:8080/",
          "height": 258
        },
        "outputId": "487c1379-d779-4b54-e45f-92837fa5a51a"
      },
      "source": [
        "X_encoded = pd.get_dummies(X, columns=['BIDANG'])\n",
        "X_encoded.head()"
      ],
      "execution_count": null,
      "outputs": [
        {
          "output_type": "execute_result",
          "data": {
            "text/html": [
              "<div>\n",
              "<style scoped>\n",
              "    .dataframe tbody tr th:only-of-type {\n",
              "        vertical-align: middle;\n",
              "    }\n",
              "\n",
              "    .dataframe tbody tr th {\n",
              "        vertical-align: top;\n",
              "    }\n",
              "\n",
              "    .dataframe thead th {\n",
              "        text-align: right;\n",
              "    }\n",
              "</style>\n",
              "<table border=\"1\" class=\"dataframe\">\n",
              "  <thead>\n",
              "    <tr style=\"text-align: right;\">\n",
              "      <th></th>\n",
              "      <th>ROA</th>\n",
              "      <th>ROE</th>\n",
              "      <th>DAR</th>\n",
              "      <th>DER</th>\n",
              "      <th>CR</th>\n",
              "      <th>QR</th>\n",
              "      <th>BIDANG_agribisnis</th>\n",
              "      <th>BIDANG_alas kaki</th>\n",
              "      <th>BIDANG_elektronika</th>\n",
              "      <th>BIDANG_farmasi</th>\n",
              "      <th>BIDANG_kabel</th>\n",
              "      <th>BIDANG_kayu dan pengolahannya</th>\n",
              "      <th>BIDANG_keramik dan kaca</th>\n",
              "      <th>BIDANG_kimia</th>\n",
              "      <th>BIDANG_kosmetik</th>\n",
              "      <th>BIDANG_logam</th>\n",
              "      <th>BIDANG_makanan dan minuman</th>\n",
              "      <th>BIDANG_otomotif dan komponen</th>\n",
              "      <th>BIDANG_pakan ternak</th>\n",
              "      <th>BIDANG_peralatan rumah tangga</th>\n",
              "      <th>BIDANG_plastik dan kemasan</th>\n",
              "      <th>BIDANG_pulp dan kertas</th>\n",
              "      <th>BIDANG_semen</th>\n",
              "      <th>BIDANG_tekstil dan garmen</th>\n",
              "    </tr>\n",
              "  </thead>\n",
              "  <tbody>\n",
              "    <tr>\n",
              "      <th>0</th>\n",
              "      <td>-0.017</td>\n",
              "      <td>-0.036</td>\n",
              "      <td>0.538</td>\n",
              "      <td>1.166</td>\n",
              "      <td>1.982</td>\n",
              "      <td>1.223</td>\n",
              "      <td>0</td>\n",
              "      <td>0</td>\n",
              "      <td>0</td>\n",
              "      <td>0</td>\n",
              "      <td>0</td>\n",
              "      <td>0</td>\n",
              "      <td>0</td>\n",
              "      <td>0</td>\n",
              "      <td>0</td>\n",
              "      <td>0</td>\n",
              "      <td>0</td>\n",
              "      <td>0</td>\n",
              "      <td>0</td>\n",
              "      <td>0</td>\n",
              "      <td>1</td>\n",
              "      <td>0</td>\n",
              "      <td>0</td>\n",
              "      <td>0</td>\n",
              "    </tr>\n",
              "    <tr>\n",
              "      <th>1</th>\n",
              "      <td>0.011</td>\n",
              "      <td>0.020</td>\n",
              "      <td>0.420</td>\n",
              "      <td>0.724</td>\n",
              "      <td>6.582</td>\n",
              "      <td>3.742</td>\n",
              "      <td>0</td>\n",
              "      <td>0</td>\n",
              "      <td>0</td>\n",
              "      <td>0</td>\n",
              "      <td>0</td>\n",
              "      <td>0</td>\n",
              "      <td>0</td>\n",
              "      <td>0</td>\n",
              "      <td>0</td>\n",
              "      <td>0</td>\n",
              "      <td>0</td>\n",
              "      <td>0</td>\n",
              "      <td>0</td>\n",
              "      <td>0</td>\n",
              "      <td>0</td>\n",
              "      <td>1</td>\n",
              "      <td>0</td>\n",
              "      <td>0</td>\n",
              "    </tr>\n",
              "    <tr>\n",
              "      <th>2</th>\n",
              "      <td>0.029</td>\n",
              "      <td>-1.256</td>\n",
              "      <td>1.023</td>\n",
              "      <td>-44.200</td>\n",
              "      <td>6.772</td>\n",
              "      <td>2.509</td>\n",
              "      <td>0</td>\n",
              "      <td>0</td>\n",
              "      <td>0</td>\n",
              "      <td>0</td>\n",
              "      <td>0</td>\n",
              "      <td>0</td>\n",
              "      <td>0</td>\n",
              "      <td>0</td>\n",
              "      <td>0</td>\n",
              "      <td>1</td>\n",
              "      <td>0</td>\n",
              "      <td>0</td>\n",
              "      <td>0</td>\n",
              "      <td>0</td>\n",
              "      <td>0</td>\n",
              "      <td>0</td>\n",
              "      <td>0</td>\n",
              "      <td>0</td>\n",
              "    </tr>\n",
              "    <tr>\n",
              "      <th>3</th>\n",
              "      <td>0.005</td>\n",
              "      <td>0.010</td>\n",
              "      <td>0.503</td>\n",
              "      <td>1.011</td>\n",
              "      <td>1.196</td>\n",
              "      <td>0.692</td>\n",
              "      <td>0</td>\n",
              "      <td>0</td>\n",
              "      <td>0</td>\n",
              "      <td>0</td>\n",
              "      <td>0</td>\n",
              "      <td>0</td>\n",
              "      <td>0</td>\n",
              "      <td>0</td>\n",
              "      <td>0</td>\n",
              "      <td>0</td>\n",
              "      <td>0</td>\n",
              "      <td>0</td>\n",
              "      <td>0</td>\n",
              "      <td>0</td>\n",
              "      <td>1</td>\n",
              "      <td>0</td>\n",
              "      <td>0</td>\n",
              "      <td>0</td>\n",
              "    </tr>\n",
              "    <tr>\n",
              "      <th>4</th>\n",
              "      <td>0.038</td>\n",
              "      <td>0.062</td>\n",
              "      <td>0.385</td>\n",
              "      <td>0.627</td>\n",
              "      <td>9.996</td>\n",
              "      <td>8.968</td>\n",
              "      <td>0</td>\n",
              "      <td>0</td>\n",
              "      <td>0</td>\n",
              "      <td>0</td>\n",
              "      <td>0</td>\n",
              "      <td>0</td>\n",
              "      <td>1</td>\n",
              "      <td>0</td>\n",
              "      <td>0</td>\n",
              "      <td>0</td>\n",
              "      <td>0</td>\n",
              "      <td>0</td>\n",
              "      <td>0</td>\n",
              "      <td>0</td>\n",
              "      <td>0</td>\n",
              "      <td>0</td>\n",
              "      <td>0</td>\n",
              "      <td>0</td>\n",
              "    </tr>\n",
              "  </tbody>\n",
              "</table>\n",
              "</div>"
            ],
            "text/plain": [
              "     ROA    ROE  ...  BIDANG_semen  BIDANG_tekstil dan garmen\n",
              "0 -0.017 -0.036  ...             0                          0\n",
              "1  0.011  0.020  ...             0                          0\n",
              "2  0.029 -1.256  ...             0                          0\n",
              "3  0.005  0.010  ...             0                          0\n",
              "4  0.038  0.062  ...             0                          0\n",
              "\n",
              "[5 rows x 24 columns]"
            ]
          },
          "metadata": {
            "tags": []
          },
          "execution_count": 25
        }
      ]
    },
    {
      "cell_type": "code",
      "metadata": {
        "id": "nBuQlQ1T1Dax",
        "colab": {
          "base_uri": "https://localhost:8080/",
          "height": 34
        },
        "outputId": "91c097c7-905f-413c-feb4-3a3a56bacdd4"
      },
      "source": [
        "X_encoded.shape"
      ],
      "execution_count": null,
      "outputs": [
        {
          "output_type": "execute_result",
          "data": {
            "text/plain": [
              "(45, 24)"
            ]
          },
          "metadata": {
            "tags": []
          },
          "execution_count": 26
        }
      ]
    },
    {
      "cell_type": "code",
      "metadata": {
        "id": "K6QyHMOr1Da-",
        "colab": {
          "base_uri": "https://localhost:8080/",
          "height": 34
        },
        "outputId": "a19fa27a-d5d8-420a-d88f-4106103d1fa6"
      },
      "source": [
        "sum(y)/len(y)"
      ],
      "execution_count": null,
      "outputs": [
        {
          "output_type": "execute_result",
          "data": {
            "text/plain": [
              "0.6444444444444445"
            ]
          },
          "metadata": {
            "tags": []
          },
          "execution_count": 27
        }
      ]
    },
    {
      "cell_type": "code",
      "metadata": {
        "id": "_4jqb3JZ1DbK"
      },
      "source": [
        "from sklearn.model_selection import train_test_split\n",
        "X_train, X_test, y_train, y_test = train_test_split(X_encoded, y, random_state=42, stratify=y)"
      ],
      "execution_count": null,
      "outputs": []
    },
    {
      "cell_type": "code",
      "metadata": {
        "id": "fqgJ9iYZ1DbR",
        "colab": {
          "base_uri": "https://localhost:8080/",
          "height": 85
        },
        "outputId": "76993238-cdcd-4057-d944-dcb9d42f905e"
      },
      "source": [
        "print('Size of X_train:',X_train.shape)\n",
        "print('Size of X_test:',X_test.shape)\n",
        "print('Size of y_train:',y_train.shape)\n",
        "print('Size of y_test :',y_test.shape)"
      ],
      "execution_count": null,
      "outputs": [
        {
          "output_type": "stream",
          "text": [
            "Size of X_train: (33, 24)\n",
            "Size of X_test: (12, 24)\n",
            "Size of y_train: (33,)\n",
            "Size of y_test : (12,)\n"
          ],
          "name": "stdout"
        }
      ]
    },
    {
      "cell_type": "code",
      "metadata": {
        "id": "6-FcOX9Q1Dbd",
        "colab": {
          "base_uri": "https://localhost:8080/",
          "height": 34
        },
        "outputId": "62d8c362-6beb-4910-ab34-6cf38c8651c0"
      },
      "source": [
        "sum(y_train)/len(y_train)"
      ],
      "execution_count": null,
      "outputs": [
        {
          "output_type": "execute_result",
          "data": {
            "text/plain": [
              "0.6363636363636364"
            ]
          },
          "metadata": {
            "tags": []
          },
          "execution_count": 30
        }
      ]
    },
    {
      "cell_type": "code",
      "metadata": {
        "id": "2oAV-aTm1Dbi",
        "colab": {
          "base_uri": "https://localhost:8080/",
          "height": 34
        },
        "outputId": "25e04da5-2afc-4817-fb67-a20ea27fc366"
      },
      "source": [
        "sum(y_test)/len(y_test)"
      ],
      "execution_count": null,
      "outputs": [
        {
          "output_type": "execute_result",
          "data": {
            "text/plain": [
              "0.6666666666666666"
            ]
          },
          "metadata": {
            "tags": []
          },
          "execution_count": 31
        }
      ]
    },
    {
      "cell_type": "code",
      "metadata": {
        "id": "9JwBJvhJ1Dbp",
        "colab": {
          "base_uri": "https://localhost:8080/",
          "height": 34
        },
        "outputId": "c9db4cfe-2325-455c-fddf-59e4f99b91b3"
      },
      "source": [
        "len(y_test)"
      ],
      "execution_count": null,
      "outputs": [
        {
          "output_type": "execute_result",
          "data": {
            "text/plain": [
              "12"
            ]
          },
          "metadata": {
            "tags": []
          },
          "execution_count": 32
        }
      ]
    },
    {
      "cell_type": "markdown",
      "metadata": {
        "id": "agx2_Mri1Dbv"
      },
      "source": [
        "## **Feature Importance**"
      ]
    },
    {
      "cell_type": "code",
      "metadata": {
        "id": "tN9XfCcD1Dbw",
        "colab": {
          "base_uri": "https://localhost:8080/",
          "height": 34
        },
        "outputId": "cb69c759-a620-4794-b5a6-1d3aed2c7405"
      },
      "source": [
        "from datetime import datetime as dt\n",
        "from sklearn.ensemble import RandomForestClassifier\n",
        "rfc = RandomForestClassifier()\n",
        "start = dt.now()\n",
        "rfc.fit(X_train,y_train)\n",
        "print(dt.now()-start)"
      ],
      "execution_count": null,
      "outputs": [
        {
          "output_type": "stream",
          "text": [
            "0:00:00.133645\n"
          ],
          "name": "stdout"
        }
      ]
    },
    {
      "cell_type": "code",
      "metadata": {
        "id": "VLnEVEmc1Db7",
        "colab": {
          "base_uri": "https://localhost:8080/",
          "height": 34
        },
        "outputId": "9ce2f468-0394-43a6-adbe-ab238da560e4"
      },
      "source": [
        "from sklearn.metrics import roc_auc_score\n",
        "y_pred = rfc.predict_proba(X_test)[:,1]\n",
        "roc_auc_score(y_test,y_pred)"
      ],
      "execution_count": null,
      "outputs": [
        {
          "output_type": "execute_result",
          "data": {
            "text/plain": [
              "1.0"
            ]
          },
          "metadata": {
            "tags": []
          },
          "execution_count": 34
        }
      ]
    },
    {
      "cell_type": "code",
      "metadata": {
        "id": "-0Rj2JV61DcB"
      },
      "source": [
        "# function for creating a feature importance dataframe\n",
        "def imp_df(column_names, importances):\n",
        "    df = pd.DataFrame({'feature': column_names,\n",
        "                       'feature_importance': importances}) \\\n",
        "           .sort_values('feature_importance', ascending = False) \\\n",
        "           .reset_index(drop = True)\n",
        "    return df"
      ],
      "execution_count": null,
      "outputs": []
    },
    {
      "cell_type": "code",
      "metadata": {
        "id": "BWZ5rRU01DcJ",
        "colab": {
          "base_uri": "https://localhost:8080/",
          "height": 793
        },
        "outputId": "c2528902-157a-4cd6-d1c5-d4518aee41d1"
      },
      "source": [
        "base_imp = imp_df(X_train.columns, rfc.feature_importances_)\n",
        "base_imp"
      ],
      "execution_count": null,
      "outputs": [
        {
          "output_type": "execute_result",
          "data": {
            "text/html": [
              "<div>\n",
              "<style scoped>\n",
              "    .dataframe tbody tr th:only-of-type {\n",
              "        vertical-align: middle;\n",
              "    }\n",
              "\n",
              "    .dataframe tbody tr th {\n",
              "        vertical-align: top;\n",
              "    }\n",
              "\n",
              "    .dataframe thead th {\n",
              "        text-align: right;\n",
              "    }\n",
              "</style>\n",
              "<table border=\"1\" class=\"dataframe\">\n",
              "  <thead>\n",
              "    <tr style=\"text-align: right;\">\n",
              "      <th></th>\n",
              "      <th>feature</th>\n",
              "      <th>feature_importance</th>\n",
              "    </tr>\n",
              "  </thead>\n",
              "  <tbody>\n",
              "    <tr>\n",
              "      <th>0</th>\n",
              "      <td>ROA</td>\n",
              "      <td>0.358246</td>\n",
              "    </tr>\n",
              "    <tr>\n",
              "      <th>1</th>\n",
              "      <td>ROE</td>\n",
              "      <td>0.284832</td>\n",
              "    </tr>\n",
              "    <tr>\n",
              "      <th>2</th>\n",
              "      <td>QR</td>\n",
              "      <td>0.075763</td>\n",
              "    </tr>\n",
              "    <tr>\n",
              "      <th>3</th>\n",
              "      <td>CR</td>\n",
              "      <td>0.068708</td>\n",
              "    </tr>\n",
              "    <tr>\n",
              "      <th>4</th>\n",
              "      <td>DER</td>\n",
              "      <td>0.064039</td>\n",
              "    </tr>\n",
              "    <tr>\n",
              "      <th>5</th>\n",
              "      <td>DAR</td>\n",
              "      <td>0.062919</td>\n",
              "    </tr>\n",
              "    <tr>\n",
              "      <th>6</th>\n",
              "      <td>BIDANG_plastik dan kemasan</td>\n",
              "      <td>0.013791</td>\n",
              "    </tr>\n",
              "    <tr>\n",
              "      <th>7</th>\n",
              "      <td>BIDANG_keramik dan kaca</td>\n",
              "      <td>0.009839</td>\n",
              "    </tr>\n",
              "    <tr>\n",
              "      <th>8</th>\n",
              "      <td>BIDANG_peralatan rumah tangga</td>\n",
              "      <td>0.009424</td>\n",
              "    </tr>\n",
              "    <tr>\n",
              "      <th>9</th>\n",
              "      <td>BIDANG_tekstil dan garmen</td>\n",
              "      <td>0.009214</td>\n",
              "    </tr>\n",
              "    <tr>\n",
              "      <th>10</th>\n",
              "      <td>BIDANG_kimia</td>\n",
              "      <td>0.008306</td>\n",
              "    </tr>\n",
              "    <tr>\n",
              "      <th>11</th>\n",
              "      <td>BIDANG_kayu dan pengolahannya</td>\n",
              "      <td>0.005618</td>\n",
              "    </tr>\n",
              "    <tr>\n",
              "      <th>12</th>\n",
              "      <td>BIDANG_farmasi</td>\n",
              "      <td>0.004960</td>\n",
              "    </tr>\n",
              "    <tr>\n",
              "      <th>13</th>\n",
              "      <td>BIDANG_pakan ternak</td>\n",
              "      <td>0.004619</td>\n",
              "    </tr>\n",
              "    <tr>\n",
              "      <th>14</th>\n",
              "      <td>BIDANG_semen</td>\n",
              "      <td>0.004258</td>\n",
              "    </tr>\n",
              "    <tr>\n",
              "      <th>15</th>\n",
              "      <td>BIDANG_logam</td>\n",
              "      <td>0.003061</td>\n",
              "    </tr>\n",
              "    <tr>\n",
              "      <th>16</th>\n",
              "      <td>BIDANG_agribisnis</td>\n",
              "      <td>0.002815</td>\n",
              "    </tr>\n",
              "    <tr>\n",
              "      <th>17</th>\n",
              "      <td>BIDANG_makanan dan minuman</td>\n",
              "      <td>0.002199</td>\n",
              "    </tr>\n",
              "    <tr>\n",
              "      <th>18</th>\n",
              "      <td>BIDANG_otomotif dan komponen</td>\n",
              "      <td>0.002194</td>\n",
              "    </tr>\n",
              "    <tr>\n",
              "      <th>19</th>\n",
              "      <td>BIDANG_pulp dan kertas</td>\n",
              "      <td>0.002190</td>\n",
              "    </tr>\n",
              "    <tr>\n",
              "      <th>20</th>\n",
              "      <td>BIDANG_alas kaki</td>\n",
              "      <td>0.001730</td>\n",
              "    </tr>\n",
              "    <tr>\n",
              "      <th>21</th>\n",
              "      <td>BIDANG_kosmetik</td>\n",
              "      <td>0.001244</td>\n",
              "    </tr>\n",
              "    <tr>\n",
              "      <th>22</th>\n",
              "      <td>BIDANG_elektronika</td>\n",
              "      <td>0.000030</td>\n",
              "    </tr>\n",
              "    <tr>\n",
              "      <th>23</th>\n",
              "      <td>BIDANG_kabel</td>\n",
              "      <td>0.000000</td>\n",
              "    </tr>\n",
              "  </tbody>\n",
              "</table>\n",
              "</div>"
            ],
            "text/plain": [
              "                          feature  feature_importance\n",
              "0                             ROA            0.358246\n",
              "1                             ROE            0.284832\n",
              "2                              QR            0.075763\n",
              "3                              CR            0.068708\n",
              "4                             DER            0.064039\n",
              "5                             DAR            0.062919\n",
              "6      BIDANG_plastik dan kemasan            0.013791\n",
              "7         BIDANG_keramik dan kaca            0.009839\n",
              "8   BIDANG_peralatan rumah tangga            0.009424\n",
              "9       BIDANG_tekstil dan garmen            0.009214\n",
              "10                   BIDANG_kimia            0.008306\n",
              "11  BIDANG_kayu dan pengolahannya            0.005618\n",
              "12                 BIDANG_farmasi            0.004960\n",
              "13            BIDANG_pakan ternak            0.004619\n",
              "14                   BIDANG_semen            0.004258\n",
              "15                   BIDANG_logam            0.003061\n",
              "16              BIDANG_agribisnis            0.002815\n",
              "17     BIDANG_makanan dan minuman            0.002199\n",
              "18   BIDANG_otomotif dan komponen            0.002194\n",
              "19         BIDANG_pulp dan kertas            0.002190\n",
              "20               BIDANG_alas kaki            0.001730\n",
              "21                BIDANG_kosmetik            0.001244\n",
              "22             BIDANG_elektronika            0.000030\n",
              "23                   BIDANG_kabel            0.000000"
            ]
          },
          "metadata": {
            "tags": []
          },
          "execution_count": 36
        }
      ]
    },
    {
      "cell_type": "markdown",
      "metadata": {
        "id": "SN9gOYa31DcQ"
      },
      "source": [
        "## **Feature Selection**"
      ]
    },
    {
      "cell_type": "code",
      "metadata": {
        "id": "s8EjYnK91DcR",
        "colab": {
          "base_uri": "https://localhost:8080/",
          "height": 34
        },
        "outputId": "ee897865-c42b-4ddd-fd03-66ab320fc4e6"
      },
      "source": [
        "best_feature = list(base_imp[base_imp['feature_importance']>0.05]['feature'])\n",
        "best_feature"
      ],
      "execution_count": null,
      "outputs": [
        {
          "output_type": "execute_result",
          "data": {
            "text/plain": [
              "['ROA', 'ROE', 'QR', 'CR', 'DER', 'DAR']"
            ]
          },
          "metadata": {
            "tags": []
          },
          "execution_count": 37
        }
      ]
    },
    {
      "cell_type": "code",
      "metadata": {
        "id": "NSqCy21K1DcY",
        "colab": {
          "base_uri": "https://localhost:8080/",
          "height": 34
        },
        "outputId": "70f97140-dd0c-4a0f-9dd9-520f35300a80"
      },
      "source": [
        "len(best_feature)"
      ],
      "execution_count": null,
      "outputs": [
        {
          "output_type": "execute_result",
          "data": {
            "text/plain": [
              "6"
            ]
          },
          "metadata": {
            "tags": []
          },
          "execution_count": 38
        }
      ]
    },
    {
      "cell_type": "code",
      "metadata": {
        "id": "aWJxR2DI1Dce"
      },
      "source": [
        "X_train_selected = X_train[best_feature]\n",
        "X_test_selected = X_test[best_feature]"
      ],
      "execution_count": null,
      "outputs": []
    },
    {
      "cell_type": "code",
      "metadata": {
        "id": "PQOhhi-u1Dcl",
        "colab": {
          "base_uri": "https://localhost:8080/",
          "height": 391
        },
        "outputId": "b6195ed7-541c-482c-8f8c-a3a5d30e2b59"
      },
      "source": [
        "display(X_train_selected.head())\n",
        "display(X_test_selected.head())"
      ],
      "execution_count": null,
      "outputs": [
        {
          "output_type": "display_data",
          "data": {
            "text/html": [
              "<div>\n",
              "<style scoped>\n",
              "    .dataframe tbody tr th:only-of-type {\n",
              "        vertical-align: middle;\n",
              "    }\n",
              "\n",
              "    .dataframe tbody tr th {\n",
              "        vertical-align: top;\n",
              "    }\n",
              "\n",
              "    .dataframe thead th {\n",
              "        text-align: right;\n",
              "    }\n",
              "</style>\n",
              "<table border=\"1\" class=\"dataframe\">\n",
              "  <thead>\n",
              "    <tr style=\"text-align: right;\">\n",
              "      <th></th>\n",
              "      <th>ROA</th>\n",
              "      <th>ROE</th>\n",
              "      <th>QR</th>\n",
              "      <th>CR</th>\n",
              "      <th>DER</th>\n",
              "      <th>DAR</th>\n",
              "    </tr>\n",
              "  </thead>\n",
              "  <tbody>\n",
              "    <tr>\n",
              "      <th>27</th>\n",
              "      <td>0.007</td>\n",
              "      <td>0.004</td>\n",
              "      <td>2.674</td>\n",
              "      <td>5.354</td>\n",
              "      <td>0.252</td>\n",
              "      <td>0.469</td>\n",
              "    </tr>\n",
              "    <tr>\n",
              "      <th>9</th>\n",
              "      <td>0.013</td>\n",
              "      <td>0.032</td>\n",
              "      <td>0.905</td>\n",
              "      <td>1.639</td>\n",
              "      <td>0.139</td>\n",
              "      <td>0.058</td>\n",
              "    </tr>\n",
              "    <tr>\n",
              "      <th>38</th>\n",
              "      <td>0.028</td>\n",
              "      <td>0.083</td>\n",
              "      <td>0.732</td>\n",
              "      <td>1.008</td>\n",
              "      <td>1.990</td>\n",
              "      <td>0.665</td>\n",
              "    </tr>\n",
              "    <tr>\n",
              "      <th>16</th>\n",
              "      <td>0.015</td>\n",
              "      <td>0.029</td>\n",
              "      <td>1.438</td>\n",
              "      <td>1.770</td>\n",
              "      <td>0.872</td>\n",
              "      <td>0.466</td>\n",
              "    </tr>\n",
              "    <tr>\n",
              "      <th>42</th>\n",
              "      <td>-0.006</td>\n",
              "      <td>-0.007</td>\n",
              "      <td>4.978</td>\n",
              "      <td>6.270</td>\n",
              "      <td>0.240</td>\n",
              "      <td>0.194</td>\n",
              "    </tr>\n",
              "  </tbody>\n",
              "</table>\n",
              "</div>"
            ],
            "text/plain": [
              "      ROA    ROE     QR     CR    DER    DAR\n",
              "27  0.007  0.004  2.674  5.354  0.252  0.469\n",
              "9   0.013  0.032  0.905  1.639  0.139  0.058\n",
              "38  0.028  0.083  0.732  1.008  1.990  0.665\n",
              "16  0.015  0.029  1.438  1.770  0.872  0.466\n",
              "42 -0.006 -0.007  4.978  6.270  0.240  0.194"
            ]
          },
          "metadata": {
            "tags": []
          }
        },
        {
          "output_type": "display_data",
          "data": {
            "text/html": [
              "<div>\n",
              "<style scoped>\n",
              "    .dataframe tbody tr th:only-of-type {\n",
              "        vertical-align: middle;\n",
              "    }\n",
              "\n",
              "    .dataframe tbody tr th {\n",
              "        vertical-align: top;\n",
              "    }\n",
              "\n",
              "    .dataframe thead th {\n",
              "        text-align: right;\n",
              "    }\n",
              "</style>\n",
              "<table border=\"1\" class=\"dataframe\">\n",
              "  <thead>\n",
              "    <tr style=\"text-align: right;\">\n",
              "      <th></th>\n",
              "      <th>ROA</th>\n",
              "      <th>ROE</th>\n",
              "      <th>QR</th>\n",
              "      <th>CR</th>\n",
              "      <th>DER</th>\n",
              "      <th>DAR</th>\n",
              "    </tr>\n",
              "  </thead>\n",
              "  <tbody>\n",
              "    <tr>\n",
              "      <th>1</th>\n",
              "      <td>0.011</td>\n",
              "      <td>0.020</td>\n",
              "      <td>3.742</td>\n",
              "      <td>6.582</td>\n",
              "      <td>0.724</td>\n",
              "      <td>0.420</td>\n",
              "    </tr>\n",
              "    <tr>\n",
              "      <th>13</th>\n",
              "      <td>-0.192</td>\n",
              "      <td>1.314</td>\n",
              "      <td>0.432</td>\n",
              "      <td>1.906</td>\n",
              "      <td>-7.827</td>\n",
              "      <td>1.146</td>\n",
              "    </tr>\n",
              "    <tr>\n",
              "      <th>2</th>\n",
              "      <td>0.029</td>\n",
              "      <td>-1.256</td>\n",
              "      <td>2.509</td>\n",
              "      <td>6.772</td>\n",
              "      <td>-44.200</td>\n",
              "      <td>1.023</td>\n",
              "    </tr>\n",
              "    <tr>\n",
              "      <th>29</th>\n",
              "      <td>-0.066</td>\n",
              "      <td>-0.205</td>\n",
              "      <td>0.314</td>\n",
              "      <td>0.720</td>\n",
              "      <td>2.088</td>\n",
              "      <td>0.676</td>\n",
              "    </tr>\n",
              "    <tr>\n",
              "      <th>18</th>\n",
              "      <td>0.029</td>\n",
              "      <td>0.042</td>\n",
              "      <td>9.122</td>\n",
              "      <td>11.882</td>\n",
              "      <td>0.437</td>\n",
              "      <td>0.304</td>\n",
              "    </tr>\n",
              "  </tbody>\n",
              "</table>\n",
              "</div>"
            ],
            "text/plain": [
              "      ROA    ROE     QR      CR     DER    DAR\n",
              "1   0.011  0.020  3.742   6.582   0.724  0.420\n",
              "13 -0.192  1.314  0.432   1.906  -7.827  1.146\n",
              "2   0.029 -1.256  2.509   6.772 -44.200  1.023\n",
              "29 -0.066 -0.205  0.314   0.720   2.088  0.676\n",
              "18  0.029  0.042  9.122  11.882   0.437  0.304"
            ]
          },
          "metadata": {
            "tags": []
          }
        }
      ]
    },
    {
      "cell_type": "markdown",
      "metadata": {
        "id": "aiBGy1kyhwrz"
      },
      "source": [
        "## **Modelling**"
      ]
    },
    {
      "cell_type": "code",
      "metadata": {
        "id": "JiG_Yg981Dct"
      },
      "source": [
        "X_train_scaled = scale(X_train_selected)\n",
        "X_test_scaled = scale(X_test_selected)"
      ],
      "execution_count": null,
      "outputs": []
    },
    {
      "cell_type": "code",
      "metadata": {
        "id": "GbT3Wue81Dc0",
        "colab": {
          "base_uri": "https://localhost:8080/",
          "height": 85
        },
        "outputId": "3acdfdde-8e2f-4344-894d-0a1b6451021c"
      },
      "source": [
        "clf_svm = SVC(random_state=42)\n",
        "clf_svm.fit(X_train_scaled, y_train)"
      ],
      "execution_count": null,
      "outputs": [
        {
          "output_type": "execute_result",
          "data": {
            "text/plain": [
              "SVC(C=1.0, break_ties=False, cache_size=200, class_weight=None, coef0=0.0,\n",
              "    decision_function_shape='ovr', degree=3, gamma='scale', kernel='rbf',\n",
              "    max_iter=-1, probability=False, random_state=42, shrinking=True, tol=0.001,\n",
              "    verbose=False)"
            ]
          },
          "metadata": {
            "tags": []
          },
          "execution_count": 56
        }
      ]
    },
    {
      "cell_type": "code",
      "metadata": {
        "id": "FFUQZCaf1Dc5",
        "colab": {
          "base_uri": "https://localhost:8080/",
          "height": 303
        },
        "outputId": "6fd66df8-ea57-41b6-d3ef-e794647fbe08"
      },
      "source": [
        "plot_confusion_matrix(clf_svm, \n",
        "                      X_test_scaled, \n",
        "                      y_test,\n",
        "                      values_format='d',\n",
        "                      display_labels=[\"Rugi\", \"Laba\"])"
      ],
      "execution_count": null,
      "outputs": [
        {
          "output_type": "execute_result",
          "data": {
            "text/plain": [
              "<sklearn.metrics._plot.confusion_matrix.ConfusionMatrixDisplay at 0x7f384b3c89b0>"
            ]
          },
          "metadata": {
            "tags": []
          },
          "execution_count": 57
        },
        {
          "output_type": "display_data",
          "data": {
            "image/png": "[encoded data removed]",
            "text/plain": [
              "<Figure size 432x288 with 2 Axes>"
            ]
          },
          "metadata": {
            "tags": [],
            "needs_background": "light"
          }
        }
      ]
    },
    {
      "cell_type": "code",
      "metadata": {
        "id": "y-7MbbON1DdA",
        "colab": {
          "base_uri": "https://localhost:8080/",
          "height": 34
        },
        "outputId": "f7d7a474-a96b-4820-ac25-ce63ce8ed2d5"
      },
      "source": [
        "param_grid = [\n",
        "  {'C': [0.5, 1, 10, 100], # NOTE: Values for C must be > 0\n",
        "   'gamma': ['scale', 1, 0.1, 0.01, 0.001, 0.0001], \n",
        "   'kernel': ['rbf']},\n",
        "]\n",
        "## NOTE: We are includeing C=1 and gamma='scale'\n",
        "## as possible choices since they are the default values.\n",
        "\n",
        "optimal_params = GridSearchCV(\n",
        "        SVC(), \n",
        "        param_grid,\n",
        "        cv=5,\n",
        "        scoring='accuracy', ## (accruacy is default scoring) Slightly improved, but hardly!!! C=1, gamma=0.01\n",
        "        ##scoring='balanced_accuracy', ## Slightly improved, but hardly!!! C=1, gamma=0.01\n",
        "        ##scoring='f1', ## Terrible!!! C=0.5, gamma=1\n",
        "        ##scoring='f1_micro', ## Slightly improved, but hardly!!! C=1, gamma=0.01\n",
        "        ##scoring='f1_macro', ## Same!! C=1, gamma='scale' (these are the same as default values)\n",
        "        ##scoring='f1_weighted', ## Same!! C=1, gamma='scale' (these are the same as default values)\n",
        "        ##scoring='roc_auc', ## Terrible!!! C=1, gamma=0.001\n",
        "        ## For more scoring metics see: \n",
        "        ## https://scikit-learn.org/stable/modules/model_evaluation.html#scoring-parameter\n",
        "        verbose=0 # NOTE: If you want to see what Grid Search is doing, set verbose=2\n",
        "    )\n",
        "\n",
        "optimal_params.fit(X_train_scaled, y_train)\n",
        "print(optimal_params.best_params_)"
      ],
      "execution_count": null,
      "outputs": [
        {
          "output_type": "stream",
          "text": [
            "{'C': 100, 'gamma': 0.1, 'kernel': 'rbf'}\n"
          ],
          "name": "stdout"
        }
      ]
    },
    {
      "cell_type": "code",
      "metadata": {
        "id": "kqy2s_2c1DdQ",
        "colab": {
          "base_uri": "https://localhost:8080/",
          "height": 85
        },
        "outputId": "4048ee7d-d1e8-462e-cc33-38a7d94e9794"
      },
      "source": [
        "clf_svm = SVC(random_state=42, C=100, gamma=0.1)\n",
        "clf_svm.fit(X_train_scaled, y_train)"
      ],
      "execution_count": null,
      "outputs": [
        {
          "output_type": "execute_result",
          "data": {
            "text/plain": [
              "SVC(C=100, break_ties=False, cache_size=200, class_weight=None, coef0=0.0,\n",
              "    decision_function_shape='ovr', degree=3, gamma=0.1, kernel='rbf',\n",
              "    max_iter=-1, probability=False, random_state=42, shrinking=True, tol=0.001,\n",
              "    verbose=False)"
            ]
          },
          "metadata": {
            "tags": []
          },
          "execution_count": 60
        }
      ]
    },
    {
      "cell_type": "code",
      "metadata": {
        "id": "DxAPHvSm1DdV",
        "colab": {
          "base_uri": "https://localhost:8080/",
          "height": 303
        },
        "outputId": "41760672-92c4-4e9b-86bb-bc1429d19911"
      },
      "source": [
        "plot_confusion_matrix(clf_svm, \n",
        "                      X_test_scaled, \n",
        "                      y_test,\n",
        "                      values_format='d',\n",
        "                      display_labels=[\"Rugi\", \"Laba\"])"
      ],
      "execution_count": null,
      "outputs": [
        {
          "output_type": "execute_result",
          "data": {
            "text/plain": [
              "<sklearn.metrics._plot.confusion_matrix.ConfusionMatrixDisplay at 0x7f384b2ed8d0>"
            ]
          },
          "metadata": {
            "tags": []
          },
          "execution_count": 61
        },
        {
          "output_type": "display_data",
          "data": {
            "image/png": "[encoded data removed]",
            "text/plain": [
              "<Figure size 432x288 with 2 Axes>"
            ]
          },
          "metadata": {
            "tags": [],
            "needs_background": "light"
          }
        }
      ]
    },
    {
      "cell_type": "code",
      "metadata": {
        "id": "-gO8x0f_1Ddh",
        "colab": {
          "base_uri": "https://localhost:8080/",
          "height": 34
        },
        "outputId": "a8353586-cbb0-4b3f-8154-580572924796"
      },
      "source": [
        "y_pred=clf_svm.predict(X_test_scaled)\n",
        "\n",
        "from sklearn import metrics\n",
        "\n",
        "print(\"Accuracy:\",metrics.accuracy_score(y_test, y_pred))"
      ],
      "execution_count": null,
      "outputs": [
        {
          "output_type": "stream",
          "text": [
            "Accuracy: 0.8333333333333334\n"
          ],
          "name": "stdout"
        }
      ]
    },
    {
      "cell_type": "markdown",
      "metadata": {
        "id": "d8WaZhHOh6NR"
      },
      "source": [
        "## **Prediction**"
      ]
    },
    {
      "cell_type": "code",
      "metadata": {
        "id": "_Eej-DdX1Ddp"
      },
      "source": [
        "df_predict=pd.read_excel(\"/content/drive/My Drive/NSC UB 2020/data_predict.xlsx\")\n",
        "df_predict_scaled = scale(df_predict)"
      ],
      "execution_count": null,
      "outputs": []
    },
    {
      "cell_type": "code",
      "metadata": {
        "id": "VJxB0Gn31Dd2",
        "colab": {
          "base_uri": "https://localhost:8080/",
          "height": 244
        },
        "outputId": "c7112eeb-600b-4dc1-8890-003ee5eb8f09"
      },
      "source": [
        "display(df_predict)\n",
        "display(df_predict_scaled)"
      ],
      "execution_count": null,
      "outputs": [
        {
          "output_type": "display_data",
          "data": {
            "text/html": [
              "<div>\n",
              "<style scoped>\n",
              "    .dataframe tbody tr th:only-of-type {\n",
              "        vertical-align: middle;\n",
              "    }\n",
              "\n",
              "    .dataframe tbody tr th {\n",
              "        vertical-align: top;\n",
              "    }\n",
              "\n",
              "    .dataframe thead th {\n",
              "        text-align: right;\n",
              "    }\n",
              "</style>\n",
              "<table border=\"1\" class=\"dataframe\">\n",
              "  <thead>\n",
              "    <tr style=\"text-align: right;\">\n",
              "      <th></th>\n",
              "      <th>ROE</th>\n",
              "      <th>ROA</th>\n",
              "      <th>DER</th>\n",
              "      <th>CR</th>\n",
              "      <th>QR</th>\n",
              "      <th>DAR</th>\n",
              "    </tr>\n",
              "  </thead>\n",
              "  <tbody>\n",
              "    <tr>\n",
              "      <th>0</th>\n",
              "      <td>0.061</td>\n",
              "      <td>0.025</td>\n",
              "      <td>1.401</td>\n",
              "      <td>11.462</td>\n",
              "      <td>6.825</td>\n",
              "      <td>0.583</td>\n",
              "    </tr>\n",
              "    <tr>\n",
              "      <th>1</th>\n",
              "      <td>-0.041</td>\n",
              "      <td>-0.015</td>\n",
              "      <td>1.633</td>\n",
              "      <td>11.571</td>\n",
              "      <td>4.216</td>\n",
              "      <td>0.620</td>\n",
              "    </tr>\n",
              "    <tr>\n",
              "      <th>2</th>\n",
              "      <td>0.070</td>\n",
              "      <td>0.620</td>\n",
              "      <td>0.133</td>\n",
              "      <td>33.513</td>\n",
              "      <td>27.519</td>\n",
              "      <td>0.118</td>\n",
              "    </tr>\n",
              "  </tbody>\n",
              "</table>\n",
              "</div>"
            ],
            "text/plain": [
              "     ROE    ROA    DER      CR      QR    DAR\n",
              "0  0.061  0.025  1.401  11.462   6.825  0.583\n",
              "1 -0.041 -0.015  1.633  11.571   4.216  0.620\n",
              "2  0.070  0.620  0.133  33.513  27.519  0.118"
            ]
          },
          "metadata": {
            "tags": []
          }
        },
        {
          "output_type": "display_data",
          "data": {
            "text/plain": [
              "array([[ 0.61582652, -0.63711087,  0.52381734, -0.71235615, -0.57827138,\n",
              "         0.62456932],\n",
              "       [-1.41044139, -0.77486457,  0.87572552, -0.70184439, -0.82854122,\n",
              "         0.78654875],\n",
              "       [ 0.79461487,  1.41197544, -1.39954286,  1.41420054,  1.40681259,\n",
              "        -1.41111808]])"
            ]
          },
          "metadata": {
            "tags": []
          }
        }
      ]
    },
    {
      "cell_type": "code",
      "metadata": {
        "id": "SkldXhTm1Dd_",
        "colab": {
          "base_uri": "https://localhost:8080/",
          "height": 34
        },
        "outputId": "056d5e51-b898-43c4-91ac-7c1fc8fde887"
      },
      "source": [
        "clf_svm.predict(df_predict_scaled)"
      ],
      "execution_count": null,
      "outputs": [
        {
          "output_type": "execute_result",
          "data": {
            "text/plain": [
              "array([1, 0, 1])"
            ]
          },
          "metadata": {
            "tags": []
          },
          "execution_count": 65
        }
      ]
    },
    {
      "cell_type": "markdown",
      "metadata": {
        "id": "4UwKSDIRiACx"
      },
      "source": [
        "## **Visualization**"
      ]
    },
    {
      "cell_type": "code",
      "metadata": {
        "id": "NqPr2v_O1DeG",
        "colab": {
          "base_uri": "https://localhost:8080/",
          "height": 282
        },
        "outputId": "1919b739-2f1a-4389-e09e-774eba14d220"
      },
      "source": [
        "pca = PCA() # NOTE: By default, PCA() centers the data, but does not scale it.\n",
        "X_train_pca = pca.fit_transform(X_train_scaled)\n",
        "\n",
        "per_var = np.round(pca.explained_variance_ratio_* 100, decimals=1)\n",
        "labels = [str(x) for x in range(1, len(per_var)+1)]\n",
        " \n",
        "plt.bar(x=range(1,len(per_var)+1), height=per_var)\n",
        "plt.tick_params(\n",
        "    axis='x',          # changes apply to the x-axis\n",
        "    which='both',      # both major and minor ticks are affected\n",
        "    bottom=False,      # ticks along the bottom edge are off\n",
        "    top=False,         # ticks along the top edge are off\n",
        "    labelbottom=False) # labels along the bottom edge are off\n",
        "plt.ylabel('Percentage of Explained Variance')\n",
        "plt.xlabel('Principal Components')\n",
        "plt.title('Scree Plot')\n",
        "plt.show()"
      ],
      "execution_count": null,
      "outputs": [
        {
          "output_type": "display_data",
          "data": {
            "image/png": "[encoded data removed]",
            "text/plain": [
              "<Figure size 432x288 with 1 Axes>"
            ]
          },
          "metadata": {
            "tags": [],
            "needs_background": "light"
          }
        }
      ]
    },
    {
      "cell_type": "code",
      "metadata": {
        "id": "v8xMGE3G1DeR",
        "colab": {
          "base_uri": "https://localhost:8080/",
          "height": 34
        },
        "outputId": "797cc59e-c95f-4ac0-b970-fced6a33ba37"
      },
      "source": [
        "train_pc1_coords = X_train_pca[:, 0] \n",
        "train_pc2_coords = X_train_pca[:, 1]\n",
        "\n",
        "## NOTE:\n",
        "## pc1 contains the x-axis coordinates of the data after PCA\n",
        "## pc2 contains the y-axis coordinates of the data after PCA\n",
        "\n",
        "## Now center and scale the PCs...\n",
        "pca_train_scaled = scale(np.column_stack((train_pc1_coords, train_pc2_coords)))\n",
        "\n",
        "## Now we optimize the SVM fit to the x and y-axis coordinates\n",
        "## of the data after PCA dimension reduction...\n",
        "param_grid = [\n",
        "  {'C': [1, 10, 100, 1000], \n",
        "   'gamma': ['scale', 1, 0.1, 0.01, 0.001, 0.0001], \n",
        "   'kernel': ['rbf']},\n",
        "]\n",
        "\n",
        "optimal_params = GridSearchCV(\n",
        "        SVC(), \n",
        "        param_grid,\n",
        "        cv=5,\n",
        "        scoring='accuracy', # NOTE: The default value for scoring results in worse performance...\n",
        "        ## For more scoring metics see: \n",
        "        ## https://scikit-learn.org/stable/modules/model_evaluation.html#scoring-parameter\n",
        "        verbose=0 # NOTE: If you want to see what Grid Search is doing, set verbose=2\n",
        "    )\n",
        "\n",
        "optimal_params.fit(pca_train_scaled, y_train)\n",
        "print(optimal_params.best_params_)"
      ],
      "execution_count": null,
      "outputs": [
        {
          "output_type": "stream",
          "text": [
            "{'C': 1000, 'gamma': 'scale', 'kernel': 'rbf'}\n"
          ],
          "name": "stdout"
        }
      ]
    },
    {
      "cell_type": "code",
      "metadata": {
        "id": "pqfhOdyQ1DeV",
        "colab": {
          "base_uri": "https://localhost:8080/",
          "height": 626
        },
        "outputId": "378f8721-2a6d-4fdc-ff6d-d90cd4c40a58"
      },
      "source": [
        "clf_svm = SVC(random_state=42, C=1000, gamma='scale')\n",
        "clf_svm.fit(pca_train_scaled, y_train)\n",
        "\n",
        "## Transform the test dataset with the PCA...\n",
        "X_test_pca = pca.transform(X_train_scaled)\n",
        "#X_test_pca = pca.transform(X_test_scaled)\n",
        "test_pc1_coords = X_test_pca[:, 0] \n",
        "test_pc2_coords = X_test_pca[:, 1]\n",
        "\n",
        "## Now create a matrix of points that we can use to show\n",
        "## the decision regions.\n",
        "## The matrix will be a little bit larger than the\n",
        "## transformed PCA points so that we can plot all of\n",
        "## the PCA points on it without them being on the edge\n",
        "x_min = test_pc1_coords.min() - 1\n",
        "x_max = test_pc1_coords.max() + 1\n",
        "\n",
        "y_min = test_pc2_coords.min() - 1\n",
        "y_max = test_pc2_coords.max() + 1\n",
        "\n",
        "xx, yy = np.meshgrid(np.arange(start=x_min, stop=x_max, step=0.1),\n",
        "                     np.arange(start=y_min, stop=y_max, step=0.1))\n",
        "\n",
        "## now we will classify every point in that \n",
        "## matrix with the SVM. Points on one side of the \n",
        "## classification boundary will get 0, and points on the other\n",
        "## side will get 1.\n",
        "Z = clf_svm.predict(np.column_stack((xx.ravel(), yy.ravel())))\n",
        "## Right now, Z is just a long array of lots of 0s and 1s, which\n",
        "## reflect how each point in the mesh was classified.\n",
        "## We use reshape() so that each classification (0 or 1) corresponds\n",
        "## to a specific point in the matrix.\n",
        "Z = Z.reshape(xx.shape)\n",
        "\n",
        "fig, ax = plt.subplots(figsize=(10,10))\n",
        "## now we will use contourf() to draw a filled contour plot\n",
        "## using the matrix values and classifications. \n",
        "## The contours will be filled according to the \n",
        "## predicted classifications (0s and 1s) in Z\n",
        "ax.contourf(xx, yy, Z, alpha=0.1)\n",
        "\n",
        "## now create custom colors for the actual data points\n",
        "cmap = colors.ListedColormap(['#e41a1c', '#4daf4a'])\n",
        "## now draw the actual data points - these will\n",
        "## be colored by their known (not predcited) classifications\n",
        "## NOTE: setting alpha=0.7 lets us see if we are covering up a point \n",
        "# scatter = ax.scatter(test_pc1_coords, test_pc2_coords, c=y_test, \n",
        "scatter = ax.scatter(test_pc1_coords, test_pc2_coords, c=y_train, \n",
        "               cmap=cmap, \n",
        "               s=100, \n",
        "               edgecolors='k', ## 'k' = black\n",
        "               alpha=0.7)\n",
        "\n",
        "## now create a legend\n",
        "legend = ax.legend(scatter.legend_elements()[0], \n",
        "                   scatter.legend_elements()[1],\n",
        "                    loc=\"upper right\")\n",
        "legend.get_texts()[0].set_text(\"No Default\")\n",
        "legend.get_texts()[1].set_text(\"Yes Default\")\n",
        "\n",
        "## now add axis labels and titles\n",
        "ax.set_ylabel('PC2')\n",
        "ax.set_xlabel('PC1')\n",
        "ax.set_title('Decison surface using the PCA transformed/projected features')\n",
        "# plt.savefig('svm_default.png')\n",
        "plt.show()"
      ],
      "execution_count": null,
      "outputs": [
        {
          "output_type": "display_data",
          "data": {
            "image/png": "[encoded data removed]",
            "text/plain": [
              "<Figure size 720x720 with 1 Axes>"
            ]
          },
          "metadata": {
            "tags": [],
            "needs_background": "light"
          }
        }
      ]
    },
    {
      "cell_type": "code",
      "metadata": {
        "id": "TCGBM4RW1Deh"
      },
      "source": [
        ""
      ],
      "execution_count": null,
      "outputs": []
    }
  ]
}